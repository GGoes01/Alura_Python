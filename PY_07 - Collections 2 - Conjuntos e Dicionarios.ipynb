{
 "cells": [
  {
   "cell_type": "markdown",
   "id": "fad434d9",
   "metadata": {},
   "source": [
    "# 1 - Conjuntos"
   ]
  },
  {
   "cell_type": "markdown",
   "id": "c951baa2",
   "metadata": {},
   "source": [
    "## 1.1 - Trabalhando com os conjuntos, os sets"
   ]
  },
  {
   "cell_type": "code",
   "execution_count": 1,
   "id": "832ab82c",
   "metadata": {},
   "outputs": [],
   "source": [
    "lista_1 = [23, 54, 71, 85]\n",
    "lista_2 = [85, 89, 71, 25]"
   ]
  },
  {
   "cell_type": "code",
   "execution_count": 2,
   "id": "bce0b7c5",
   "metadata": {},
   "outputs": [
    {
     "data": {
      "text/plain": [
       "[23, 54, 71, 85]"
      ]
     },
     "execution_count": 2,
     "metadata": {},
     "output_type": "execute_result"
    }
   ],
   "source": [
    "lista_12 = []\n",
    "\n",
    "lista_12.extend(lista_1)\n",
    "lista_12"
   ]
  },
  {
   "cell_type": "code",
   "execution_count": 3,
   "id": "b7fec50e",
   "metadata": {},
   "outputs": [],
   "source": [
    "lista_12 = None\n",
    "\n",
    "lista_12 = lista_1.copy()"
   ]
  },
  {
   "cell_type": "code",
   "execution_count": 4,
   "id": "ff817f9d",
   "metadata": {},
   "outputs": [
    {
     "data": {
      "text/plain": [
       "[23, 54, 71, 85]"
      ]
     },
     "execution_count": 4,
     "metadata": {},
     "output_type": "execute_result"
    }
   ],
   "source": [
    "lista_12"
   ]
  },
  {
   "cell_type": "code",
   "execution_count": 5,
   "id": "2bac4239",
   "metadata": {},
   "outputs": [
    {
     "data": {
      "text/plain": [
       "[23, 54, 71, 85, 85, 89, 71, 25]"
      ]
     },
     "execution_count": 5,
     "metadata": {},
     "output_type": "execute_result"
    }
   ],
   "source": [
    "lista_12.extend(lista_2)\n",
    "lista_12"
   ]
  },
  {
   "cell_type": "code",
   "execution_count": 6,
   "id": "b9e6bac0",
   "metadata": {},
   "outputs": [
    {
     "data": {
      "text/plain": [
       "{23, 25, 54, 71, 85, 89}"
      ]
     },
     "execution_count": 6,
     "metadata": {},
     "output_type": "execute_result"
    }
   ],
   "source": [
    "set(lista_12)  # Remove elementos repetidos onde a ordem NÂO importa"
   ]
  },
  {
   "cell_type": "code",
   "execution_count": 7,
   "id": "f7b5298a",
   "metadata": {},
   "outputs": [
    {
     "name": "stdout",
     "output_type": "stream",
     "text": [
      "71\n",
      "85\n",
      "54\n",
      "23\n",
      "89\n",
      "25\n"
     ]
    }
   ],
   "source": [
    "for elemento in set(lista_12):\n",
    "    print(elemento)"
   ]
  },
  {
   "cell_type": "code",
   "execution_count": 8,
   "id": "3fd1fa35",
   "metadata": {},
   "outputs": [],
   "source": [
    "conj_1 = set(lista_1)\n",
    "conj_2 = set(lista_2)"
   ]
  },
  {
   "cell_type": "code",
   "execution_count": 9,
   "id": "a6576ece",
   "metadata": {},
   "outputs": [
    {
     "data": {
      "text/plain": [
       "{23, 25, 54, 71, 85, 89}"
      ]
     },
     "execution_count": 9,
     "metadata": {},
     "output_type": "execute_result"
    }
   ],
   "source": [
    "conj_1 | conj_2  # União de conjuntos"
   ]
  },
  {
   "cell_type": "code",
   "execution_count": 10,
   "id": "d6836577",
   "metadata": {},
   "outputs": [
    {
     "data": {
      "text/plain": [
       "{71, 85}"
      ]
     },
     "execution_count": 10,
     "metadata": {},
     "output_type": "execute_result"
    }
   ],
   "source": [
    "conj_1 & conj_2  # Interseção de conjuntos"
   ]
  },
  {
   "cell_type": "markdown",
   "id": "b30848d9",
   "metadata": {},
   "source": [
    "## 1.2 - Mais opções de conjuntos"
   ]
  },
  {
   "cell_type": "code",
   "execution_count": 11,
   "id": "8ce52b81",
   "metadata": {},
   "outputs": [
    {
     "data": {
      "text/plain": [
       "{23, 54}"
      ]
     },
     "execution_count": 11,
     "metadata": {},
     "output_type": "execute_result"
    }
   ],
   "source": [
    "conj_1 - conj_2  # Subtração de conjuntos"
   ]
  },
  {
   "cell_type": "code",
   "execution_count": 12,
   "id": "8656b2b3",
   "metadata": {},
   "outputs": [
    {
     "data": {
      "text/plain": [
       "True"
      ]
     },
     "execution_count": 12,
     "metadata": {},
     "output_type": "execute_result"
    }
   ],
   "source": [
    "23 in conj_1"
   ]
  },
  {
   "cell_type": "code",
   "execution_count": 13,
   "id": "f9d8dd38",
   "metadata": {},
   "outputs": [
    {
     "data": {
      "text/plain": [
       "{23, 25, 54, 89}"
      ]
     },
     "execution_count": 13,
     "metadata": {},
     "output_type": "execute_result"
    }
   ],
   "source": [
    "conj_1 ^ conj_2  # OU exclusivo"
   ]
  },
  {
   "cell_type": "markdown",
   "id": "2bf16713",
   "metadata": {},
   "source": [
    "# 2 - Operações"
   ]
  },
  {
   "cell_type": "markdown",
   "id": "6f7b09bd",
   "metadata": {},
   "source": [
    "## 2.1 - Outro tipo de conjunto e conjunto de outro tipo"
   ]
  },
  {
   "cell_type": "code",
   "execution_count": 14,
   "id": "29aa0485",
   "metadata": {},
   "outputs": [
    {
     "data": {
      "text/plain": [
       "8"
      ]
     },
     "execution_count": 14,
     "metadata": {},
     "output_type": "execute_result"
    }
   ],
   "source": [
    "conjunto = {1, 32, 52, 74, 16, 78, 46, 37}\n",
    "len(conjunto)"
   ]
  },
  {
   "cell_type": "code",
   "execution_count": 15,
   "id": "4a0aea1f",
   "metadata": {},
   "outputs": [
    {
     "data": {
      "text/plain": [
       "9"
      ]
     },
     "execution_count": 15,
     "metadata": {},
     "output_type": "execute_result"
    }
   ],
   "source": [
    "conjunto.add(68)\n",
    "len(conjunto)"
   ]
  },
  {
   "cell_type": "code",
   "execution_count": 16,
   "id": "d7c18bf4",
   "metadata": {},
   "outputs": [
    {
     "data": {
      "text/plain": [
       "frozenset({1, 16, 32, 37, 46, 52, 68, 74, 78})"
      ]
     },
     "execution_count": 16,
     "metadata": {},
     "output_type": "execute_result"
    }
   ],
   "source": [
    "conjunlado = frozenset(conjunto)\n",
    "conjunlado"
   ]
  },
  {
   "cell_type": "code",
   "execution_count": 17,
   "id": "50afc6de",
   "metadata": {},
   "outputs": [
    {
     "data": {
      "text/plain": [
       "frozenset"
      ]
     },
     "execution_count": 17,
     "metadata": {},
     "output_type": "execute_result"
    }
   ],
   "source": [
    "type(conjunlado)"
   ]
  },
  {
   "cell_type": "code",
   "execution_count": 18,
   "id": "376f25b2",
   "metadata": {},
   "outputs": [],
   "source": [
    "#conjunlado.add(29)  # \"'frozenset' object has no attribute 'add'\""
   ]
  },
  {
   "cell_type": "code",
   "execution_count": 19,
   "id": "288dfd17",
   "metadata": {},
   "outputs": [],
   "source": [
    "texto = \"Damn Jimmy! That's some serious gourmet shit!\""
   ]
  },
  {
   "cell_type": "code",
   "execution_count": 20,
   "id": "777cb216",
   "metadata": {},
   "outputs": [
    {
     "data": {
      "text/plain": [
       "{'Damn', 'Jimmy!', \"That's\", 'gourmet', 'serious', 'shit!', 'some'}"
      ]
     },
     "execution_count": 20,
     "metadata": {},
     "output_type": "execute_result"
    }
   ],
   "source": [
    "set(texto.split())"
   ]
  },
  {
   "cell_type": "markdown",
   "id": "7efeb8c6",
   "metadata": {},
   "source": [
    "# 3 - Dicionários"
   ]
  },
  {
   "cell_type": "markdown",
   "id": "90914f30",
   "metadata": {},
   "source": [
    "## 3.1 - Dicionários"
   ]
  },
  {
   "cell_type": "code",
   "execution_count": 21,
   "id": "11db63f1",
   "metadata": {},
   "outputs": [],
   "source": [
    "dicionario = {\"a\": 1, \"b\": 2, \"c\": 3, \"d\": 4}"
   ]
  },
  {
   "cell_type": "code",
   "execution_count": 22,
   "id": "9d074405",
   "metadata": {},
   "outputs": [
    {
     "data": {
      "text/plain": [
       "1"
      ]
     },
     "execution_count": 22,
     "metadata": {},
     "output_type": "execute_result"
    }
   ],
   "source": [
    "dicionario[\"a\"]"
   ]
  },
  {
   "cell_type": "code",
   "execution_count": 23,
   "id": "33e09dfb",
   "metadata": {},
   "outputs": [
    {
     "data": {
      "text/plain": [
       "dict"
      ]
     },
     "execution_count": 23,
     "metadata": {},
     "output_type": "execute_result"
    }
   ],
   "source": [
    "type(dicionario)"
   ]
  },
  {
   "cell_type": "code",
   "execution_count": 24,
   "id": "833f1011",
   "metadata": {},
   "outputs": [
    {
     "data": {
      "text/plain": [
       "0"
      ]
     },
     "execution_count": 24,
     "metadata": {},
     "output_type": "execute_result"
    }
   ],
   "source": [
    "dicionario.get(\"pindamonhangaba\", 0)"
   ]
  },
  {
   "cell_type": "code",
   "execution_count": 25,
   "id": "2791dee8",
   "metadata": {},
   "outputs": [
    {
     "data": {
      "text/plain": [
       "1"
      ]
     },
     "execution_count": 25,
     "metadata": {},
     "output_type": "execute_result"
    }
   ],
   "source": [
    "dicionario.get(\"a\", 0)"
   ]
  },
  {
   "cell_type": "markdown",
   "id": "9b2512bd",
   "metadata": {},
   "source": [
    "## 3.2 - Mais opções de dicionários"
   ]
  },
  {
   "cell_type": "code",
   "execution_count": 26,
   "id": "98279114",
   "metadata": {},
   "outputs": [],
   "source": [
    "dic_idade = {\"Gabriel\": 22, \"Beatriz\": 18, \"Daniel\": 12}"
   ]
  },
  {
   "cell_type": "code",
   "execution_count": 27,
   "id": "bbb4f0e6",
   "metadata": {},
   "outputs": [
    {
     "data": {
      "text/plain": [
       "{'Gabriel': 22, 'Beatriz': 18, 'Daniel': 12, 'Wiviam': 49}"
      ]
     },
     "execution_count": 27,
     "metadata": {},
     "output_type": "execute_result"
    }
   ],
   "source": [
    "dic_idade[\"Wiviam\"] = 49\n",
    "dic_idade"
   ]
  },
  {
   "cell_type": "code",
   "execution_count": 28,
   "id": "683c12cd",
   "metadata": {},
   "outputs": [
    {
     "data": {
      "text/plain": [
       "{'Gabriel': 22, 'Beatriz': 18, 'Daniel': 12, 'Wiviam': 49, 'Thorzinho': 3}"
      ]
     },
     "execution_count": 28,
     "metadata": {},
     "output_type": "execute_result"
    }
   ],
   "source": [
    "dic_idade[\"Thorzinho\"] = 3\n",
    "dic_idade"
   ]
  },
  {
   "cell_type": "code",
   "execution_count": 29,
   "id": "d8fb1ccc",
   "metadata": {},
   "outputs": [
    {
     "data": {
      "text/plain": [
       "{'Gabriel': 22, 'Beatriz': 18, 'Daniel': 12, 'Wiviam': 49}"
      ]
     },
     "execution_count": 29,
     "metadata": {},
     "output_type": "execute_result"
    }
   ],
   "source": [
    "del dic_idade[\"Thorzinho\"]\n",
    "dic_idade"
   ]
  },
  {
   "cell_type": "code",
   "execution_count": 30,
   "id": "0978e8b1",
   "metadata": {},
   "outputs": [
    {
     "data": {
      "text/plain": [
       "False"
      ]
     },
     "execution_count": 30,
     "metadata": {},
     "output_type": "execute_result"
    }
   ],
   "source": [
    "\"Thorzinho\" in dic_idade"
   ]
  },
  {
   "cell_type": "code",
   "execution_count": 31,
   "id": "e272edb4",
   "metadata": {},
   "outputs": [
    {
     "name": "stdout",
     "output_type": "stream",
     "text": [
      "Gabriel\n",
      "Beatriz\n",
      "Daniel\n",
      "Wiviam\n"
     ]
    }
   ],
   "source": [
    "for pessoa in dic_idade:\n",
    "    print(pessoa)"
   ]
  },
  {
   "cell_type": "code",
   "execution_count": 32,
   "id": "81a962f9",
   "metadata": {},
   "outputs": [
    {
     "name": "stdout",
     "output_type": "stream",
     "text": [
      "Gabriel\n",
      "Beatriz\n",
      "Daniel\n",
      "Wiviam\n"
     ]
    }
   ],
   "source": [
    "for pessoa in dic_idade.keys():\n",
    "    print(pessoa)"
   ]
  },
  {
   "cell_type": "code",
   "execution_count": 33,
   "id": "837ee283",
   "metadata": {},
   "outputs": [
    {
     "name": "stdout",
     "output_type": "stream",
     "text": [
      "22\n",
      "18\n",
      "12\n",
      "49\n"
     ]
    }
   ],
   "source": [
    "for idade in dic_idade.values():\n",
    "    print(idade)"
   ]
  },
  {
   "cell_type": "code",
   "execution_count": 34,
   "id": "29cb3a45",
   "metadata": {},
   "outputs": [
    {
     "name": "stdout",
     "output_type": "stream",
     "text": [
      "Gabriel - 22\n",
      "Beatriz - 18\n",
      "Daniel - 12\n",
      "Wiviam - 49\n"
     ]
    }
   ],
   "source": [
    "for pessoa in dic_idade.keys():\n",
    "    idade = dic_idade[pessoa]\n",
    "    print(f\"{pessoa} - {idade}\")"
   ]
  },
  {
   "cell_type": "code",
   "execution_count": 35,
   "id": "ff740b8b",
   "metadata": {},
   "outputs": [
    {
     "name": "stdout",
     "output_type": "stream",
     "text": [
      "('Gabriel', 22)\n",
      "('Beatriz', 18)\n",
      "('Daniel', 12)\n",
      "('Wiviam', 49)\n"
     ]
    }
   ],
   "source": [
    "for pessoa_idade in dic_idade.items():\n",
    "    print(pessoa_idade)"
   ]
  },
  {
   "cell_type": "code",
   "execution_count": 36,
   "id": "ed17bf93",
   "metadata": {},
   "outputs": [
    {
     "name": "stdout",
     "output_type": "stream",
     "text": [
      "Gabriel - 22\n",
      "Beatriz - 18\n",
      "Daniel - 12\n",
      "Wiviam - 49\n"
     ]
    }
   ],
   "source": [
    "for pessoa, idade in dic_idade.items():\n",
    "    print(f\"{pessoa} - {idade}\")"
   ]
  },
  {
   "cell_type": "code",
   "execution_count": 37,
   "id": "48471afa",
   "metadata": {},
   "outputs": [
    {
     "data": {
      "text/plain": [
       "['Gabriel Góes Ferreira, 22',\n",
       " 'Beatriz Góes Ferreira, 18',\n",
       " 'Daniel Góes Ferreira, 12',\n",
       " 'Wiviam Góes Ferreira, 49']"
      ]
     },
     "execution_count": 37,
     "metadata": {},
     "output_type": "execute_result"
    }
   ],
   "source": [
    "[f\"{pessoa} Góes Ferreira, {idade}\" for pessoa, idade in dic_idade.items()]"
   ]
  },
  {
   "cell_type": "markdown",
   "id": "5c4671b8",
   "metadata": {},
   "source": [
    "# 4 - Variações de dicionários"
   ]
  },
  {
   "cell_type": "markdown",
   "id": "b7907dbf",
   "metadata": {},
   "source": [
    "## 4.1 - Default dict"
   ]
  },
  {
   "cell_type": "code",
   "execution_count": 44,
   "id": "42fdaea7",
   "metadata": {},
   "outputs": [
    {
     "data": {
      "text/plain": [
       "'damn jimmy! this is some serious gormet shit'"
      ]
     },
     "execution_count": 44,
     "metadata": {},
     "output_type": "execute_result"
    }
   ],
   "source": [
    "meu_texto = \"Damn Jimmy! This is some serious gormet shit\"\n",
    "meu_texto = meu_texto.lower()\n",
    "meu_texto"
   ]
  },
  {
   "cell_type": "code",
   "execution_count": 45,
   "id": "89424a40",
   "metadata": {},
   "outputs": [],
   "source": [
    "aparicoes = {}\n",
    "\n",
    "for palavra in meu_texto.split():\n",
    "    ate_agora = aparicoes.get(palavra, 0)\n",
    "    aparicoes[palavra] = ate_agora + 1"
   ]
  },
  {
   "cell_type": "code",
   "execution_count": 46,
   "id": "e58112f9",
   "metadata": {},
   "outputs": [
    {
     "data": {
      "text/plain": [
       "{'damn': 1,\n",
       " 'jimmy!': 1,\n",
       " 'this': 1,\n",
       " 'is': 1,\n",
       " 'some': 1,\n",
       " 'serious': 1,\n",
       " 'gormet': 1,\n",
       " 'shit': 1}"
      ]
     },
     "execution_count": 46,
     "metadata": {},
     "output_type": "execute_result"
    }
   ],
   "source": [
    "aparicoes"
   ]
  },
  {
   "cell_type": "code",
   "execution_count": 47,
   "id": "90df9272",
   "metadata": {},
   "outputs": [],
   "source": [
    "from collections import defaultdict"
   ]
  },
  {
   "cell_type": "code",
   "execution_count": 48,
   "id": "187da0c2",
   "metadata": {},
   "outputs": [
    {
     "data": {
      "text/plain": [
       "defaultdict(int,\n",
       "            {'damn': 1,\n",
       "             'jimmy!': 1,\n",
       "             'this': 1,\n",
       "             'is': 1,\n",
       "             'some': 1,\n",
       "             'serious': 1,\n",
       "             'gormet': 1,\n",
       "             'shit': 1})"
      ]
     },
     "execution_count": 48,
     "metadata": {},
     "output_type": "execute_result"
    }
   ],
   "source": [
    "aparicoes = defaultdict(int)\n",
    "\n",
    "for palavra in meu_texto.split():\n",
    "    ate_agora = aparicoes[palavra]\n",
    "    aparicoes[palavra] = ate_agora + 1\n",
    "    \n",
    "aparicoes"
   ]
  },
  {
   "cell_type": "markdown",
   "id": "373bec97",
   "metadata": {},
   "source": [
    "## 4.2 - Counter"
   ]
  },
  {
   "cell_type": "code",
   "execution_count": 49,
   "id": "b9de39fc",
   "metadata": {},
   "outputs": [
    {
     "data": {
      "text/plain": [
       "defaultdict(int,\n",
       "            {'damn': 1,\n",
       "             'jimmy!': 1,\n",
       "             'this': 1,\n",
       "             'is': 1,\n",
       "             'some': 1,\n",
       "             'serious': 1,\n",
       "             'gormet': 1,\n",
       "             'shit': 1})"
      ]
     },
     "execution_count": 49,
     "metadata": {},
     "output_type": "execute_result"
    }
   ],
   "source": [
    "aparicoes = defaultdict(int)\n",
    "\n",
    "for palavra in meu_texto.split():\n",
    "    aparicoes[palavra] += 1\n",
    "    \n",
    "aparicoes"
   ]
  },
  {
   "cell_type": "code",
   "execution_count": 50,
   "id": "c8ae53b9",
   "metadata": {},
   "outputs": [],
   "source": [
    "from collections import Counter\n",
    "\n",
    "aparicoes = Counter(meu_texto.split())"
   ]
  },
  {
   "cell_type": "code",
   "execution_count": 51,
   "id": "9ff269e6",
   "metadata": {},
   "outputs": [
    {
     "data": {
      "text/plain": [
       "Counter({'damn': 1,\n",
       "         'jimmy!': 1,\n",
       "         'this': 1,\n",
       "         'is': 1,\n",
       "         'some': 1,\n",
       "         'serious': 1,\n",
       "         'gormet': 1,\n",
       "         'shit': 1})"
      ]
     },
     "execution_count": 51,
     "metadata": {},
     "output_type": "execute_result"
    }
   ],
   "source": [
    "aparicoes"
   ]
  },
  {
   "cell_type": "markdown",
   "id": "612691ae",
   "metadata": {},
   "source": [
    "# 5 - Praticando"
   ]
  },
  {
   "cell_type": "markdown",
   "id": "1191013a",
   "metadata": {},
   "source": [
    "## 5.1 - Colocando tudo em prática"
   ]
  },
  {
   "cell_type": "code",
   "execution_count": 66,
   "id": "6fa493b2",
   "metadata": {},
   "outputs": [],
   "source": [
    "lorem_ipsum = \"Lorem ipsum dolor sit amet, consectetur adipiscing elit, sed do eiusmod tempor incididunt ut labore et dolore magna aliqua. Viverra tellus in hac habitasse platea dictumst vestibulum rhoncus. Sodales ut eu sem integer vitae justo eget magna. At lectus urna duis convallis convallis. Adipiscing elit duis tristique sollicitudin nibh sit. Tincidunt augue interdum velit euismod in pellentesque massa. Ac tortor dignissim convallis aenean et tortor. Quis commodo odio aenean sed. Quis hendrerit dolor magna eget est lorem ipsum dolor sit. Nulla pharetra diam sit amet nisl suscipit adipiscing bibendum. Ornare quam viverra orci sagittis. Convallis aenean et tortor at risus viverra adipiscing. Non tellus orci ac auctor augue. Duis at tellus at urna condimentum. Malesuada pellentesque elit eget gravida cum sociis natoque.\"\n",
    "ezequiel_25_17 = \"\"\"The path of the righteous man is beset on all sides\n",
    "By the inequities of the selfish and the tyranny of evil men\n",
    "Blessed is he who, in the name of charity and good will\n",
    "Shepherds the weak through the valley of darkness\n",
    "For he is truly his brother's keeper and the finder of lost children\n",
    "And I will strike down upon thee\n",
    "With great vengeance and furious anger\n",
    "Those who attempt to poison and destroy my brothers\n",
    "And you will know my name is the Lord\n",
    "When I lay my vengeance upon thee\"\"\""
   ]
  },
  {
   "cell_type": "code",
   "execution_count": 67,
   "id": "ed97e925",
   "metadata": {},
   "outputs": [],
   "source": [
    "aparicoes = Counter(lorem_ipsum.lower().strip().replace(\" \", \"\"))"
   ]
  },
  {
   "cell_type": "code",
   "execution_count": 68,
   "id": "ab878a48",
   "metadata": {},
   "outputs": [
    {
     "data": {
      "text/plain": [
       "Counter({'l': 40,\n",
       "         'o': 43,\n",
       "         'r': 38,\n",
       "         'e': 69,\n",
       "         'm': 27,\n",
       "         'i': 75,\n",
       "         'p': 12,\n",
       "         's': 56,\n",
       "         'u': 46,\n",
       "         'd': 32,\n",
       "         't': 61,\n",
       "         'a': 61,\n",
       "         ',': 2,\n",
       "         'c': 27,\n",
       "         'n': 44,\n",
       "         'g': 16,\n",
       "         'b': 6,\n",
       "         'q': 8,\n",
       "         '.': 15,\n",
       "         'v': 14,\n",
       "         'h': 6,\n",
       "         'j': 1})"
      ]
     },
     "execution_count": 68,
     "metadata": {},
     "output_type": "execute_result"
    }
   ],
   "source": [
    "aparicoes"
   ]
  },
  {
   "cell_type": "code",
   "execution_count": 69,
   "id": "f9b21a70",
   "metadata": {},
   "outputs": [
    {
     "name": "stdout",
     "output_type": "stream",
     "text": [
      "i => 10.73\n",
      "e => 9.87\n",
      "t => 8.73\n",
      "a => 8.73\n",
      "s => 8.01\n",
      "u => 6.58\n",
      "n => 6.29\n",
      "o => 6.15\n",
      "l => 5.72\n",
      "r => 5.44\n"
     ]
    }
   ],
   "source": [
    "def analisa_frequencia(texto):\n",
    "    aparicoes = Counter(texto.lower().strip().replace(\" \", \"\"))\n",
    "    total_de_caracteres = sum(aparicoes.values())\n",
    "    \n",
    "    proporcoes = [(letra, frequencia / total_de_caracteres) for letra, frequencia in aparicoes.items()]\n",
    "    proporcoes = Counter(dict(proporcoes))\n",
    "    for caractere, proporcao in proporcoes.most_common(10):\n",
    "        print(f\"{caractere} => {proporcao * 100:.2f}\")\n",
    "        \n",
    "analisa_frequencia(lorem_ipsum)    "
   ]
  },
  {
   "cell_type": "code",
   "execution_count": 70,
   "id": "7d86fcc6",
   "metadata": {},
   "outputs": [
    {
     "name": "stdout",
     "output_type": "stream",
     "text": [
      "e => 13.53\n",
      "t => 8.02\n",
      "h => 7.77\n",
      "n => 7.52\n",
      "o => 7.27\n",
      "s => 6.52\n",
      "i => 6.27\n",
      "a => 5.76\n",
      "r => 5.26\n",
      "l => 4.51\n"
     ]
    }
   ],
   "source": [
    "analisa_frequencia(ezequiel_25_17)"
   ]
  },
  {
   "cell_type": "code",
   "execution_count": null,
   "id": "8fbde8a8",
   "metadata": {},
   "outputs": [],
   "source": []
  }
 ],
 "metadata": {
  "kernelspec": {
   "display_name": "Python 3",
   "language": "python",
   "name": "python3"
  },
  "language_info": {
   "codemirror_mode": {
    "name": "ipython",
    "version": 3
   },
   "file_extension": ".py",
   "mimetype": "text/x-python",
   "name": "python",
   "nbconvert_exporter": "python",
   "pygments_lexer": "ipython3",
   "version": "3.8.8"
  }
 },
 "nbformat": 4,
 "nbformat_minor": 5
}
