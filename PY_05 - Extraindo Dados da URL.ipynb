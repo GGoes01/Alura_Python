{
 "cells": [
  {
   "cell_type": "markdown",
   "id": "606a96a8",
   "metadata": {},
   "source": [
    "# 1 - Introdução e Fatiamento de Strings"
   ]
  },
  {
   "cell_type": "markdown",
   "id": "77cb7703",
   "metadata": {},
   "source": [
    "## 1.1 - Parâmetros em páginas da internet"
   ]
  },
  {
   "cell_type": "code",
   "execution_count": 3,
   "id": "080ce088",
   "metadata": {},
   "outputs": [
    {
     "name": "stdout",
     "output_type": "stream",
     "text": [
      "URL original: https://bytebank.com/cambio?moedaOrigem=real&moedaDestino=dolar&quantidade=100\n"
     ]
    }
   ],
   "source": [
    "url = \"https://bytebank.com/cambio?moedaOrigem=real&moedaDestino=dolar&quantidade=100\"\n",
    "print(f\"URL original: {url}\")"
   ]
  },
  {
   "cell_type": "markdown",
   "id": "5c48540f",
   "metadata": {},
   "source": [
    "## 1.2 - Fatiamento de strings"
   ]
  },
  {
   "cell_type": "code",
   "execution_count": 4,
   "id": "1da6a9a5",
   "metadata": {},
   "outputs": [
    {
     "name": "stdout",
     "output_type": "stream",
     "text": [
      "Base da URL: https://bytebank.com/cambio\n",
      "Parâmetros da URL: moedaOrigem=real&moedaDestino=dolar&quantidade=100\n"
     ]
    }
   ],
   "source": [
    "indice_interrogacao = 27\n",
    "url_base = url[:indice_interrogacao]\n",
    "url_parametros = url[indice_interrogacao + 1:]\n",
    "\n",
    "print(f\"Base da URL: {url_base}\")\n",
    "print(f\"Parâmetros da URL: {url_parametros}\")"
   ]
  },
  {
   "cell_type": "markdown",
   "id": "facd5001",
   "metadata": {},
   "source": [
    "# 2 - Utilizando métodos de string"
   ]
  },
  {
   "cell_type": "markdown",
   "id": "f3ee8b6f",
   "metadata": {},
   "source": [
    "## 2.1 - Método find()"
   ]
  },
  {
   "cell_type": "code",
   "execution_count": 5,
   "id": "0cceb1e5",
   "metadata": {},
   "outputs": [
    {
     "name": "stdout",
     "output_type": "stream",
     "text": [
      "Base da URL: https://bytebank.com/cambio\n",
      "Parâmetros da URL: moedaOrigem=real&moedaDestino=dolar&quantidade=100\n"
     ]
    }
   ],
   "source": [
    "indice_interrogacao = url.find(\"?\")\n",
    "url_base = url[:indice_interrogacao]\n",
    "url_parametros = url[indice_interrogacao + 1:]\n",
    "\n",
    "print(f\"Base da URL: {url_base}\")\n",
    "print(f\"Parâmetros da URL: {url_parametros}\")"
   ]
  },
  {
   "cell_type": "markdown",
   "id": "930e5d8a",
   "metadata": {},
   "source": [
    "## 2.2 - Método len()"
   ]
  },
  {
   "cell_type": "code",
   "execution_count": 6,
   "id": "0fad7882",
   "metadata": {},
   "outputs": [
    {
     "name": "stdout",
     "output_type": "stream",
     "text": [
      "100\n"
     ]
    }
   ],
   "source": [
    "parametro_de_busca = \"quantidade\"\n",
    "indice_parametro = url_parametros.find(parametro_de_busca)\n",
    "indice_valor = indice_parametro + len(parametro_de_busca) + 1\n",
    "valor = url_parametros[indice_valor:]\n",
    "print(valor)"
   ]
  },
  {
   "cell_type": "markdown",
   "id": "26aed612",
   "metadata": {},
   "source": [
    "## 2.3 - URL com múltiplos parâmetros"
   ]
  },
  {
   "cell_type": "code",
   "execution_count": 7,
   "id": "c67c801d",
   "metadata": {},
   "outputs": [
    {
     "data": {
      "text/plain": [
       "'100'"
      ]
     },
     "execution_count": 7,
     "metadata": {},
     "output_type": "execute_result"
    }
   ],
   "source": [
    "parametro_de_busca = \"quantidade\"\n",
    "indice_parametro = url_parametros.find(parametro_de_busca)\n",
    "indice_valor = indice_parametro + len(parametro_de_busca) + 1\n",
    "indice_e_comercial = url_parametros.find(\"&\", indice_parametro)\n",
    "\n",
    "if indice_e_comercial > 0:\n",
    "    valor = url_parametros[indice_valor:indice_e_comercial]\n",
    "\n",
    "else:\n",
    "    valor = url_parametros[indice_valor:]\n",
    "    \n",
    "valor"
   ]
  },
  {
   "cell_type": "code",
   "execution_count": 8,
   "id": "493bfca3",
   "metadata": {},
   "outputs": [
    {
     "data": {
      "text/plain": [
       "{'moedaOrigem': 'real', 'moedaDestino': 'dolar', 'quantidade': '100'}"
      ]
     },
     "execution_count": 8,
     "metadata": {},
     "output_type": "execute_result"
    }
   ],
   "source": [
    "parametros = {}\n",
    "parametros_e_valores = url_parametros.split(\"&\")\n",
    "for conjunto in parametros_e_valores:\n",
    "    parametro, valor = conjunto.split(\"=\")\n",
    "    parametros[parametro] = valor\n",
    "    \n",
    "parametros"
   ]
  },
  {
   "cell_type": "markdown",
   "id": "376a236c",
   "metadata": {},
   "source": [
    "# 3 - Aplicando Orientação a Objetos no projeto"
   ]
  },
  {
   "cell_type": "markdown",
   "id": "67c29484",
   "metadata": {},
   "source": [
    "## 3.1 - Validando a URL"
   ]
  },
  {
   "cell_type": "code",
   "execution_count": 9,
   "id": "2c206e6c",
   "metadata": {},
   "outputs": [],
   "source": [
    "url = \"      \"\n",
    "url = url.strip()"
   ]
  },
  {
   "cell_type": "code",
   "execution_count": 10,
   "id": "204f9b02",
   "metadata": {},
   "outputs": [],
   "source": [
    "url = \"https://bytebank.com/cambio?moedaOrigem=real&moedaDestino=dolar&quantidade=100\"\n",
    "if url == \"\":\n",
    "    raise ValueError(\"A URL está vazia\")"
   ]
  },
  {
   "cell_type": "markdown",
   "id": "894eaef7",
   "metadata": {},
   "source": [
    "## 3.2 - Criando a nossa classe"
   ]
  },
  {
   "cell_type": "code",
   "execution_count": 11,
   "id": "e9f2d73c",
   "metadata": {},
   "outputs": [],
   "source": [
    "def sanitizar_url(url):\n",
    "    return url.strip().replace(\" \", \"\")\n",
    "\n",
    "class ExtratorURL:\n",
    "    \n",
    "    def __init__(self, url):\n",
    "        self.__url = sanitizar_url(url)  # Limpa a URL\n",
    "        self.__validar_url()  # Valida a URL\n",
    "        self.__url_base, self.__url_parametros = self.__separar_url()  # Separa a url em base e parâmetros\n",
    "        self.__dict_parametros = self.__criar_dict_parametros()  # Cria um dicionário contendo os parâmetros da URL\n",
    "        \n",
    "    def __validar_url(self):\n",
    "        if self.__url == \"\":\n",
    "            raise ValueError(\"A URL está vazia!!!\")\n",
    "       \n",
    "    def __separar_url(self):\n",
    "        indice_interrogacao = self.__url.find(\"?\")\n",
    "        url_base = self.__url[:indice_interrogacao]\n",
    "        url_parametros = self.__url[indice_interrogacao + 1:]\n",
    "        return url_base, url_parametros\n",
    "    \n",
    "    def __criar_dict_parametros(self):\n",
    "        parametros = {}\n",
    "        parametros_e_valores = self.__url_parametros.split(\"&\")\n",
    "        for conjunto in parametros_e_valores:\n",
    "            parametro, valor = conjunto.split(\"=\")\n",
    "            parametros[parametro] = valor\n",
    "        \n",
    "        return parametros\n",
    "            \n",
    "    @property\n",
    "    def base(self):\n",
    "        return self.__url_base\n",
    "    \n",
    "    @property\n",
    "    def parametros(self):\n",
    "        return self.__url_parametros\n",
    "    \n",
    "    def get_parametros(self):\n",
    "        return list(self.__dict_parametros.keys())    \n",
    "    \n",
    "    def get_valor_parametro(self, parametro):\n",
    "        return self.__dict_parametros[parametro]\n"
   ]
  },
  {
   "cell_type": "code",
   "execution_count": 12,
   "id": "91519594",
   "metadata": {},
   "outputs": [],
   "source": [
    "url = \"https://bytebank.com/cambio?moedaO    rigem=rea  l&moedaD estino=dolar&quantidade=100\"\n",
    "extrator_url = ExtratorURL(url)"
   ]
  },
  {
   "cell_type": "code",
   "execution_count": 13,
   "id": "9681b066",
   "metadata": {},
   "outputs": [],
   "source": [
    "# url_vazia = \"   \"\n",
    "# extrator_vazio = ExtratorURL(url_vazia)"
   ]
  },
  {
   "cell_type": "code",
   "execution_count": 14,
   "id": "ed816345",
   "metadata": {},
   "outputs": [
    {
     "data": {
      "text/plain": [
       "'https://bytebank.com/cambio'"
      ]
     },
     "execution_count": 14,
     "metadata": {},
     "output_type": "execute_result"
    }
   ],
   "source": [
    "extrator_url.base"
   ]
  },
  {
   "cell_type": "code",
   "execution_count": 15,
   "id": "935d9547",
   "metadata": {},
   "outputs": [
    {
     "data": {
      "text/plain": [
       "'100'"
      ]
     },
     "execution_count": 15,
     "metadata": {},
     "output_type": "execute_result"
    }
   ],
   "source": [
    "extrator_url.get_valor_parametro(\"quantidade\")"
   ]
  },
  {
   "cell_type": "code",
   "execution_count": 16,
   "id": "1fc8d2d6",
   "metadata": {},
   "outputs": [
    {
     "data": {
      "text/plain": [
       "['moedaOrigem', 'moedaDestino', 'quantidade']"
      ]
     },
     "execution_count": 16,
     "metadata": {},
     "output_type": "execute_result"
    }
   ],
   "source": [
    "extrator_url.get_parametros()"
   ]
  },
  {
   "cell_type": "markdown",
   "id": "94c56fe6",
   "metadata": {},
   "source": [
    "## 3.4 - None vs empty, e o if do Python"
   ]
  },
  {
   "cell_type": "code",
   "execution_count": 17,
   "id": "75508cbb",
   "metadata": {},
   "outputs": [],
   "source": [
    "# extrator_url_none = ExtratorURL(None)"
   ]
  },
  {
   "cell_type": "code",
   "execution_count": 18,
   "id": "595f453e",
   "metadata": {},
   "outputs": [],
   "source": [
    "def sanitizar_url(url):\n",
    "    if type(url) == str:\n",
    "        url_limpa = url.strip().replace(\" \", \"\")\n",
    "    \n",
    "    else:\n",
    "        url_limpa = \"\"\n",
    "    return url_limpa\n",
    "\n",
    "class ExtratorURL:\n",
    "    \n",
    "    def __init__(self, url):\n",
    "        self.__url = sanitizar_url(url)  # Limpa a URL\n",
    "        self.__validar_url()  # Valida a URL\n",
    "        self.__url_base, self.__url_parametros = self.__separar_url()  # Separa a url em base e parâmetros\n",
    "        self.__dict_parametros = self.__criar_dict_parametros()  # Cria um dicionário contendo os parâmetros da URL\n",
    "        \n",
    "    def __validar_url(self):\n",
    "        if not self.__url:\n",
    "            raise ValueError(\"A URL não é válida!\")\n",
    "       \n",
    "    def __separar_url(self):\n",
    "        indice_interrogacao = self.__url.find(\"?\")\n",
    "        url_base = self.__url[:indice_interrogacao]\n",
    "        url_parametros = self.__url[indice_interrogacao + 1:]\n",
    "        return url_base, url_parametros\n",
    "    \n",
    "    def __criar_dict_parametros(self):\n",
    "        parametros = {}\n",
    "        parametros_e_valores = self.__url_parametros.split(\"&\")\n",
    "        for conjunto in parametros_e_valores:\n",
    "            parametro, valor = conjunto.split(\"=\")\n",
    "            parametros[parametro] = valor\n",
    "        \n",
    "        return parametros\n",
    "            \n",
    "    @property\n",
    "    def base(self):\n",
    "        return self.__url_base\n",
    "    \n",
    "    @property\n",
    "    def parametros(self):\n",
    "        return self.__url_parametros\n",
    "    \n",
    "    def get_parametros(self):\n",
    "        return list(self.__dict_parametros.keys())    \n",
    "    \n",
    "    def get_valor_parametro(self, parametro):\n",
    "        return self.__dict_parametros[parametro]\n"
   ]
  },
  {
   "cell_type": "code",
   "execution_count": 19,
   "id": "de635d57",
   "metadata": {},
   "outputs": [
    {
     "data": {
      "text/plain": [
       "['moedaOrigem', 'moedaDestino', 'quantidade']"
      ]
     },
     "execution_count": 19,
     "metadata": {},
     "output_type": "execute_result"
    }
   ],
   "source": [
    "extrator_url= ExtratorURL(url)\n",
    "extrator_url.get_parametros()"
   ]
  },
  {
   "cell_type": "markdown",
   "id": "b9bf5d29",
   "metadata": {},
   "source": [
    "# 4 - Expressões Regulares"
   ]
  },
  {
   "cell_type": "markdown",
   "id": "759e2ef7",
   "metadata": {},
   "source": [
    "## 4.1 - O que são expressões regulares?"
   ]
  },
  {
   "cell_type": "code",
   "execution_count": 20,
   "id": "cc03c91a",
   "metadata": {},
   "outputs": [],
   "source": [
    "import re"
   ]
  },
  {
   "cell_type": "code",
   "execution_count": 21,
   "id": "3e44a14b",
   "metadata": {},
   "outputs": [
    {
     "name": "stdout",
     "output_type": "stream",
     "text": [
      "68455-722\n"
     ]
    }
   ],
   "source": [
    "endereco = \"Rua Itacaiunas 31, Vila Permanente, Tucuruí, PA, 68455-722\"\n",
    "\n",
    "padrao = re.compile(\"[0123456789][0123456789][0123456789][0123456789][0123456789][-]?[0123456789][0123456789][0123456789]\")\n",
    "busca = padrao.search(endereco)\n",
    "if busca:\n",
    "    cep = busca.group()\n",
    "    print(cep)"
   ]
  },
  {
   "cell_type": "markdown",
   "id": "02a71c19",
   "metadata": {},
   "source": [
    "## 4.2 - Quantificadores e intervalos"
   ]
  },
  {
   "cell_type": "code",
   "execution_count": 22,
   "id": "c2a89c38",
   "metadata": {},
   "outputs": [
    {
     "name": "stdout",
     "output_type": "stream",
     "text": [
      "68455-722\n"
     ]
    }
   ],
   "source": [
    "padrao = re.compile(\"[0-9]{5}[-]{0,1}[0-9]{3}\")\n",
    "busca = padrao.search(endereco)\n",
    "if busca:\n",
    "    cep = busca.group()\n",
    "    print(cep)"
   ]
  },
  {
   "cell_type": "markdown",
   "id": "c56c7162",
   "metadata": {},
   "source": [
    "## 4.3 - Validando URL com RegEx"
   ]
  },
  {
   "cell_type": "code",
   "execution_count": 23,
   "id": "83ba81f1",
   "metadata": {},
   "outputs": [],
   "source": [
    "url = \"https://www.bytebank.com.br/cambio\"\n",
    "\n",
    "padrao_url = re.compile('(http(s)?://)?(www.)?bytebank.com(.br)?/cambio')\n",
    "match = padrao_url.match(url)\n",
    "\n",
    "if not match:\n",
    "    raise ValueError(\"A URL não é válida!\")"
   ]
  },
  {
   "cell_type": "code",
   "execution_count": 24,
   "id": "839ce1e0",
   "metadata": {},
   "outputs": [],
   "source": [
    "import re\n",
    "\n",
    "def sanitizar_url(url):\n",
    "    if type(url) == str:\n",
    "        url_limpa = url.strip().replace(\" \", \"\")\n",
    "    \n",
    "    else:\n",
    "        url_limpa = \"\"\n",
    "    return url_limpa\n",
    "\n",
    "class ExtratorURL:\n",
    "    \n",
    "    def __init__(self, url):\n",
    "        self.__url = sanitizar_url(url)  # Limpa a URL\n",
    "        self.__validar_url()  # Valida a URL\n",
    "        self.__url_base, self.__url_parametros = self.__separar_url()  # Separa a url em base e parâmetros\n",
    "        self.__dict_parametros = self.__criar_dict_parametros()  # Cria um dicionário contendo os parâmetros da URL\n",
    "        \n",
    "    def __validar_url(self):\n",
    "        if not self.__url:\n",
    "            raise ValueError(\"A URL não é válida!\")\n",
    "            \n",
    "        padrao_url = re.compile('(http(s)?://)?(www.)?bytebank.com(.br)?/cambio')\n",
    "        match = padrao_url.match(self.__url)\n",
    "\n",
    "        if not match:\n",
    "            raise ValueError(\"A URL não é válida!\")\n",
    "       \n",
    "    def __separar_url(self):\n",
    "        indice_interrogacao = self.__url.find(\"?\")\n",
    "        url_base = self.__url[:indice_interrogacao]\n",
    "        url_parametros = self.__url[indice_interrogacao + 1:]\n",
    "        return url_base, url_parametros\n",
    "    \n",
    "    def __criar_dict_parametros(self):\n",
    "        parametros = {}\n",
    "        parametros_e_valores = self.__url_parametros.split(\"&\")\n",
    "        for conjunto in parametros_e_valores:\n",
    "            parametro, valor = conjunto.split(\"=\")\n",
    "            parametros[parametro] = valor\n",
    "        \n",
    "        return parametros\n",
    "            \n",
    "    @property\n",
    "    def base(self):\n",
    "        return self.__url_base\n",
    "    \n",
    "    @property\n",
    "    def parametros(self):\n",
    "        return self.__url_parametros\n",
    "    \n",
    "    def get_parametros(self):\n",
    "        return list(self.__dict_parametros.keys())    \n",
    "    \n",
    "    def get_valor_parametro(self, parametro):\n",
    "        return self.__dict_parametros[parametro]\n"
   ]
  },
  {
   "cell_type": "code",
   "execution_count": 25,
   "id": "fc1f39c5",
   "metadata": {},
   "outputs": [],
   "source": [
    "url = \"https://bytebank.com/cambio?moedaO    rigem=rea  l&moedaD estino=dolar&quantidade=100\"\n",
    "\n",
    "extrator_url = ExtratorURL(url)"
   ]
  },
  {
   "cell_type": "code",
   "execution_count": 26,
   "id": "f481e2c9",
   "metadata": {},
   "outputs": [
    {
     "data": {
      "text/plain": [
       "['moedaOrigem', 'moedaDestino', 'quantidade']"
      ]
     },
     "execution_count": 26,
     "metadata": {},
     "output_type": "execute_result"
    }
   ],
   "source": [
    "extrator_url.get_parametros()"
   ]
  },
  {
   "cell_type": "markdown",
   "id": "3898508c",
   "metadata": {},
   "source": [
    "# 5 - Métodos especiais"
   ]
  },
  {
   "cell_type": "markdown",
   "id": "f1ca3928",
   "metadata": {},
   "source": [
    "## 5.1 - Introdução: o método len"
   ]
  },
  {
   "cell_type": "code",
   "execution_count": 27,
   "id": "9d11eeed",
   "metadata": {},
   "outputs": [],
   "source": [
    "import re\n",
    "\n",
    "def sanitizar_url(url):\n",
    "    if type(url) == str:\n",
    "        url_limpa = url.strip().replace(\" \", \"\")\n",
    "    \n",
    "    else:\n",
    "        url_limpa = \"\"\n",
    "    return url_limpa\n",
    "\n",
    "class ExtratorURL:\n",
    "    \n",
    "    def __init__(self, url):\n",
    "        self.__url = sanitizar_url(url)  # Limpa a URL\n",
    "        self.__validar_url()  # Valida a URL\n",
    "        self.__url_base, self.__url_parametros = self.__separar_url()  # Separa a url em base e parâmetros\n",
    "        self.__dict_parametros = self.__criar_dict_parametros()  # Cria um dicionário contendo os parâmetros da URL\n",
    "        \n",
    "    def __validar_url(self):\n",
    "        if not self.__url:\n",
    "            raise ValueError(\"A URL não é válida!\")\n",
    "            \n",
    "        padrao_url = re.compile('(http(s)?://)?(www.)?bytebank.com(.br)?/cambio')\n",
    "        match = padrao_url.match(self.__url)\n",
    "\n",
    "        if not match:\n",
    "            raise ValueError(\"A URL não é válida!\")\n",
    "       \n",
    "    def __separar_url(self):\n",
    "        indice_interrogacao = self.__url.find(\"?\")\n",
    "        url_base = self.__url[:indice_interrogacao]\n",
    "        url_parametros = self.__url[indice_interrogacao + 1:]\n",
    "        return url_base, url_parametros\n",
    "    \n",
    "    def __criar_dict_parametros(self):\n",
    "        parametros = {}\n",
    "        parametros_e_valores = self.__url_parametros.split(\"&\")\n",
    "        for conjunto in parametros_e_valores:\n",
    "            parametro, valor = conjunto.split(\"=\")\n",
    "            parametros[parametro] = valor\n",
    "        \n",
    "        return parametros\n",
    "            \n",
    "    @property\n",
    "    def base(self):\n",
    "        return self.__url_base\n",
    "    \n",
    "    @property\n",
    "    def parametros(self):\n",
    "        return self.__url_parametros\n",
    "    \n",
    "    def get_parametros(self):\n",
    "        return list(self.__dict_parametros.keys())    \n",
    "    \n",
    "    def get_valor_parametro(self, parametro):\n",
    "        return self.__dict_parametros[parametro]\n",
    "    \n",
    "    def __len__(self):\n",
    "        return len(self.__url)\n",
    "    \n",
    "    "
   ]
  },
  {
   "cell_type": "code",
   "execution_count": 28,
   "id": "7d8e721d",
   "metadata": {},
   "outputs": [],
   "source": [
    "extrator_url = ExtratorURL(url)"
   ]
  },
  {
   "cell_type": "code",
   "execution_count": 29,
   "id": "07e0989b",
   "metadata": {},
   "outputs": [
    {
     "data": {
      "text/plain": [
       "78"
      ]
     },
     "execution_count": 29,
     "metadata": {},
     "output_type": "execute_result"
    }
   ],
   "source": [
    "len(extrator_url)"
   ]
  },
  {
   "cell_type": "code",
   "execution_count": 30,
   "id": "7b79a88e",
   "metadata": {},
   "outputs": [
    {
     "data": {
      "text/plain": [
       "['_ExtratorURL__criar_dict_parametros',\n",
       " '_ExtratorURL__dict_parametros',\n",
       " '_ExtratorURL__separar_url',\n",
       " '_ExtratorURL__url',\n",
       " '_ExtratorURL__url_base',\n",
       " '_ExtratorURL__url_parametros',\n",
       " '_ExtratorURL__validar_url',\n",
       " '__class__',\n",
       " '__delattr__',\n",
       " '__dict__',\n",
       " '__dir__',\n",
       " '__doc__',\n",
       " '__eq__',\n",
       " '__format__',\n",
       " '__ge__',\n",
       " '__getattribute__',\n",
       " '__gt__',\n",
       " '__hash__',\n",
       " '__init__',\n",
       " '__init_subclass__',\n",
       " '__le__',\n",
       " '__len__',\n",
       " '__lt__',\n",
       " '__module__',\n",
       " '__ne__',\n",
       " '__new__',\n",
       " '__reduce__',\n",
       " '__reduce_ex__',\n",
       " '__repr__',\n",
       " '__setattr__',\n",
       " '__sizeof__',\n",
       " '__str__',\n",
       " '__subclasshook__',\n",
       " '__weakref__',\n",
       " 'base',\n",
       " 'get_parametros',\n",
       " 'get_valor_parametro',\n",
       " 'parametros']"
      ]
     },
     "execution_count": 30,
     "metadata": {},
     "output_type": "execute_result"
    }
   ],
   "source": [
    "dir(extrator_url)"
   ]
  },
  {
   "cell_type": "markdown",
   "id": "439368af",
   "metadata": {},
   "source": [
    "## 5.2 - O método str"
   ]
  },
  {
   "cell_type": "code",
   "execution_count": 34,
   "id": "574ba9e1",
   "metadata": {},
   "outputs": [],
   "source": [
    "import re\n",
    "\n",
    "def sanitizar_url(url):\n",
    "    if type(url) == str:\n",
    "        url_limpa = url.strip().replace(\" \", \"\")\n",
    "    \n",
    "    else:\n",
    "        url_limpa = \"\"\n",
    "    return url_limpa\n",
    "\n",
    "class ExtratorURL:\n",
    "    \n",
    "    def __init__(self, url):\n",
    "        self.__url = sanitizar_url(url)  # Limpa a URL\n",
    "        self.__validar_url()  # Valida a URL\n",
    "        self.__url_base, self.__url_parametros = self.__separar_url()  # Separa a url em base e parâmetros\n",
    "        self.__dict_parametros = self.__criar_dict_parametros()  # Cria um dicionário contendo os parâmetros da URL\n",
    "        \n",
    "    def __validar_url(self):\n",
    "        if not self.__url:\n",
    "            raise ValueError(\"A URL não é válida!\")\n",
    "            \n",
    "        padrao_url = re.compile('(http(s)?://)?(www.)?bytebank.com(.br)?/cambio')\n",
    "        match = padrao_url.match(self.__url)\n",
    "\n",
    "        if not match:\n",
    "            raise ValueError(\"A URL não é válida!\")\n",
    "       \n",
    "    def __separar_url(self):\n",
    "        indice_interrogacao = self.__url.find(\"?\")\n",
    "        url_base = self.__url[:indice_interrogacao]\n",
    "        url_parametros = self.__url[indice_interrogacao + 1:]\n",
    "        return url_base, url_parametros\n",
    "    \n",
    "    def __criar_dict_parametros(self):\n",
    "        parametros = {}\n",
    "        parametros_e_valores = self.__url_parametros.split(\"&\")\n",
    "        for conjunto in parametros_e_valores:\n",
    "            parametro, valor = conjunto.split(\"=\")\n",
    "            parametros[parametro] = valor\n",
    "        \n",
    "        return parametros\n",
    "            \n",
    "    @property\n",
    "    def base(self):\n",
    "        return self.__url_base\n",
    "    \n",
    "    @property\n",
    "    def parametros(self):\n",
    "        return list(self.__dict_parametros.keys()) \n",
    "    \n",
    "    def get_valor_parametro(self, parametro):\n",
    "        return self.__dict_parametros[parametro]\n",
    "    \n",
    "    def __str__(self):\n",
    "        return f\"URL: {self.__url}\\nURL base: {self.base}\\nParâmetros: {self.parametros}\"\n"
   ]
  },
  {
   "cell_type": "code",
   "execution_count": 35,
   "id": "2503d3e7",
   "metadata": {},
   "outputs": [],
   "source": [
    "extrator_url = ExtratorURL(url)"
   ]
  },
  {
   "cell_type": "code",
   "execution_count": 36,
   "id": "e04e2cfc",
   "metadata": {},
   "outputs": [
    {
     "name": "stdout",
     "output_type": "stream",
     "text": [
      "URL: https://bytebank.com/cambio?moedaOrigem=real&moedaDestino=dolar&quantidade=100\n",
      "URL base: https://bytebank.com/cambio\n",
      "Parâmetros: ['moedaOrigem', 'moedaDestino', 'quantidade']\n"
     ]
    }
   ],
   "source": [
    "print(extrator_url)"
   ]
  },
  {
   "cell_type": "markdown",
   "id": "807c85e4",
   "metadata": {},
   "source": [
    "## 5.3 - Igualdade e identidade"
   ]
  },
  {
   "cell_type": "code",
   "execution_count": 37,
   "id": "144965a4",
   "metadata": {},
   "outputs": [],
   "source": [
    "import re\n",
    "\n",
    "def sanitizar_url(url):\n",
    "    if type(url) == str:\n",
    "        url_limpa = url.strip().replace(\" \", \"\")\n",
    "    \n",
    "    else:\n",
    "        url_limpa = \"\"\n",
    "    return url_limpa\n",
    "\n",
    "class ExtratorURL:\n",
    "    \n",
    "    def __init__(self, url):\n",
    "        self.__url = sanitizar_url(url)  # Limpa a URL\n",
    "        self.__validar_url()  # Valida a URL\n",
    "        self.__url_base, self.__url_parametros = self.__separar_url()  # Separa a url em base e parâmetros\n",
    "        self.__dict_parametros = self.__criar_dict_parametros()  # Cria um dicionário contendo os parâmetros da URL\n",
    "        \n",
    "    def __validar_url(self):\n",
    "        if not self.__url:\n",
    "            raise ValueError(\"A URL não é válida!\")\n",
    "            \n",
    "        padrao_url = re.compile('(http(s)?://)?(www.)?bytebank.com(.br)?/cambio')\n",
    "        match = padrao_url.match(self.__url)\n",
    "\n",
    "        if not match:\n",
    "            raise ValueError(\"A URL não é válida!\")\n",
    "       \n",
    "    def __separar_url(self):\n",
    "        indice_interrogacao = self.__url.find(\"?\")\n",
    "        url_base = self.__url[:indice_interrogacao]\n",
    "        url_parametros = self.__url[indice_interrogacao + 1:]\n",
    "        return url_base, url_parametros\n",
    "    \n",
    "    def __criar_dict_parametros(self):\n",
    "        parametros = {}\n",
    "        parametros_e_valores = self.__url_parametros.split(\"&\")\n",
    "        for conjunto in parametros_e_valores:\n",
    "            parametro, valor = conjunto.split(\"=\")\n",
    "            parametros[parametro] = valor\n",
    "        \n",
    "        return parametros\n",
    "            \n",
    "    @property\n",
    "    def base(self):\n",
    "        return self.__url_base\n",
    "    \n",
    "    @property\n",
    "    def parametros(self):\n",
    "        return list(self.__dict_parametros.keys())\n",
    "    \n",
    "    @property\n",
    "    def url(self):\n",
    "        return self.__url\n",
    "    \n",
    "    def get_valor_parametro(self, parametro):\n",
    "        return self.__dict_parametros[parametro]\n",
    "    \n",
    "    def __str__(self):\n",
    "        return f\"URL: {self.__url}\\nURL base: {self.base}\\nParâmetros: {self.parametros}\"\n",
    "    \n",
    "    def __eq__(self, other):\n",
    "        return self.url == other.url\n"
   ]
  },
  {
   "cell_type": "code",
   "execution_count": 40,
   "id": "50f96c16",
   "metadata": {},
   "outputs": [],
   "source": [
    "url1 = \"https://bytebank.com/cambio?moedaOrigem=real&moedaDestino=dolar&quantidade=100\"\n",
    "url2 = \"https://bytebank.com/cambio?moedaOrigem=real&moedaDestino=dolar&quantidade=200\"\n",
    "\n",
    "extrator_url = ExtratorURL(url1)\n",
    "extrator_ur2 = ExtratorURL(url2)"
   ]
  },
  {
   "cell_type": "code",
   "execution_count": 41,
   "id": "09b9087c",
   "metadata": {},
   "outputs": [
    {
     "data": {
      "text/plain": [
       "False"
      ]
     },
     "execution_count": 41,
     "metadata": {},
     "output_type": "execute_result"
    }
   ],
   "source": [
    "extrator_url == extrator_ur2"
   ]
  },
  {
   "cell_type": "code",
   "execution_count": 51,
   "id": "0da66da7",
   "metadata": {},
   "outputs": [],
   "source": [
    "def converter(url):\n",
    "    extrator_url = ExtratorURL(url)\n",
    "    moeda_origem = extrator_url.get_valor_parametro(\"moedaOrigem\")\n",
    "    moeda_destino = extrator_url.get_valor_parametro(\"moedaDestino\")\n",
    "    quantidade = extrator_url.get_valor_parametro(\"quantidade\")\n",
    "    quantidade = float(quantidade)\n",
    "    quantidade_convertida = 0.0\n",
    "    \n",
    "    if moeda_origem == \"real\":\n",
    "        quantidade_convertida = quantidade / 5.28\n",
    "        print(f\"R${quantidade:.2f} -> U${quantidade_convertida:.2f}\")\n",
    "        \n",
    "    else:\n",
    "        quantidade_convertida = quantidade * 5.28\n",
    "        print(f\"U${quantidade:.2f} -> R${quantidade_convertida:.2f}\")\n",
    "       "
   ]
  },
  {
   "cell_type": "code",
   "execution_count": 52,
   "id": "c6a8dd3c",
   "metadata": {},
   "outputs": [
    {
     "name": "stdout",
     "output_type": "stream",
     "text": [
      "U$7.50 -> R$39.60\n"
     ]
    }
   ],
   "source": [
    "url = \"https://bytebank.com/cambio?moedaOrigem=dolar&moedaDestino=real&quantidade=7.5\"\n",
    "converter(url)"
   ]
  },
  {
   "cell_type": "code",
   "execution_count": null,
   "id": "fecd9512",
   "metadata": {},
   "outputs": [],
   "source": []
  }
 ],
 "metadata": {
  "kernelspec": {
   "display_name": "Python 3",
   "language": "python",
   "name": "python3"
  },
  "language_info": {
   "codemirror_mode": {
    "name": "ipython",
    "version": 3
   },
   "file_extension": ".py",
   "mimetype": "text/x-python",
   "name": "python",
   "nbconvert_exporter": "python",
   "pygments_lexer": "ipython3",
   "version": "3.8.8"
  }
 },
 "nbformat": 4,
 "nbformat_minor": 5
}
