{
 "cells": [
  {
   "cell_type": "markdown",
   "id": "28a310f1",
   "metadata": {},
   "source": [
    "# 1 - Listas e operações"
   ]
  },
  {
   "cell_type": "markdown",
   "id": "bf54791b",
   "metadata": {},
   "source": [
    "## 1.1 - Introduções as coleções e lista"
   ]
  },
  {
   "cell_type": "code",
   "execution_count": 1,
   "id": "ca5f521b",
   "metadata": {},
   "outputs": [
    {
     "name": "stdout",
     "output_type": "stream",
     "text": [
      "39 30 27\n"
     ]
    }
   ],
   "source": [
    "idade1 = 39\n",
    "idade2 = 30\n",
    "idade3 = 27\n",
    "\n",
    "print(idade1, idade2, idade3)"
   ]
  },
  {
   "cell_type": "code",
   "execution_count": 2,
   "id": "8ce533c0",
   "metadata": {},
   "outputs": [],
   "source": [
    "idades = [39, 30, 27, 18]"
   ]
  },
  {
   "cell_type": "code",
   "execution_count": 3,
   "id": "6cc799f5",
   "metadata": {},
   "outputs": [
    {
     "data": {
      "text/plain": [
       "list"
      ]
     },
     "execution_count": 3,
     "metadata": {},
     "output_type": "execute_result"
    }
   ],
   "source": [
    "type(idades)"
   ]
  },
  {
   "cell_type": "code",
   "execution_count": 4,
   "id": "ad0f9661",
   "metadata": {},
   "outputs": [
    {
     "data": {
      "text/plain": [
       "4"
      ]
     },
     "execution_count": 4,
     "metadata": {},
     "output_type": "execute_result"
    }
   ],
   "source": [
    "len(idades)"
   ]
  },
  {
   "cell_type": "code",
   "execution_count": 5,
   "id": "40852d3d",
   "metadata": {},
   "outputs": [
    {
     "data": {
      "text/plain": [
       "[39, 30, 27, 18]"
      ]
     },
     "execution_count": 5,
     "metadata": {},
     "output_type": "execute_result"
    }
   ],
   "source": [
    "idades"
   ]
  },
  {
   "cell_type": "code",
   "execution_count": 6,
   "id": "41c61e20",
   "metadata": {},
   "outputs": [
    {
     "data": {
      "text/plain": [
       "[39, 30, 27, 18, 23]"
      ]
     },
     "execution_count": 6,
     "metadata": {},
     "output_type": "execute_result"
    }
   ],
   "source": [
    "idades.append(23)\n",
    "idades"
   ]
  },
  {
   "cell_type": "code",
   "execution_count": 7,
   "id": "8a723ab3",
   "metadata": {},
   "outputs": [],
   "source": [
    "idades.append(30)"
   ]
  },
  {
   "cell_type": "code",
   "execution_count": 8,
   "id": "d543269c",
   "metadata": {},
   "outputs": [
    {
     "data": {
      "text/plain": [
       "[39, 30, 27, 18, 23, 30]"
      ]
     },
     "execution_count": 8,
     "metadata": {},
     "output_type": "execute_result"
    }
   ],
   "source": [
    "idades"
   ]
  },
  {
   "cell_type": "code",
   "execution_count": 9,
   "id": "0fb9dab0",
   "metadata": {},
   "outputs": [
    {
     "data": {
      "text/plain": [
       "[39, 27, 18, 23, 30]"
      ]
     },
     "execution_count": 9,
     "metadata": {},
     "output_type": "execute_result"
    }
   ],
   "source": [
    "idades.remove(30)\n",
    "idades"
   ]
  },
  {
   "cell_type": "code",
   "execution_count": 10,
   "id": "7c26bc18",
   "metadata": {},
   "outputs": [
    {
     "data": {
      "text/plain": [
       "[]"
      ]
     },
     "execution_count": 10,
     "metadata": {},
     "output_type": "execute_result"
    }
   ],
   "source": [
    "idades.clear()\n",
    "idades"
   ]
  },
  {
   "cell_type": "markdown",
   "id": "71a2ae26",
   "metadata": {},
   "source": [
    "## 1.2 - Mais operações em listas e listcomprehension"
   ]
  },
  {
   "cell_type": "code",
   "execution_count": 11,
   "id": "3b081f5d",
   "metadata": {},
   "outputs": [
    {
     "data": {
      "text/plain": [
       "True"
      ]
     },
     "execution_count": 11,
     "metadata": {},
     "output_type": "execute_result"
    }
   ],
   "source": [
    "idades = [39, 30, 27, 18]\n",
    "18 in idades"
   ]
  },
  {
   "cell_type": "code",
   "execution_count": 12,
   "id": "e0e61954",
   "metadata": {},
   "outputs": [],
   "source": [
    "if 18 in idades:\n",
    "    idades.remove(18)"
   ]
  },
  {
   "cell_type": "code",
   "execution_count": 13,
   "id": "76db9079",
   "metadata": {},
   "outputs": [
    {
     "data": {
      "text/plain": [
       "[39, 30, 27]"
      ]
     },
     "execution_count": 13,
     "metadata": {},
     "output_type": "execute_result"
    }
   ],
   "source": [
    "idades"
   ]
  },
  {
   "cell_type": "code",
   "execution_count": 14,
   "id": "72ce7dd6",
   "metadata": {},
   "outputs": [
    {
     "data": {
      "text/plain": [
       "[39, 22, 30, 27]"
      ]
     },
     "execution_count": 14,
     "metadata": {},
     "output_type": "execute_result"
    }
   ],
   "source": [
    "idades.insert(1, 22)\n",
    "idades"
   ]
  },
  {
   "cell_type": "code",
   "execution_count": 15,
   "id": "4a3268d4",
   "metadata": {},
   "outputs": [
    {
     "data": {
      "text/plain": [
       "[39, 22, 30, 27, 19, 25]"
      ]
     },
     "execution_count": 15,
     "metadata": {},
     "output_type": "execute_result"
    }
   ],
   "source": [
    "idades.extend([19, 25])\n",
    "idades"
   ]
  },
  {
   "cell_type": "code",
   "execution_count": 16,
   "id": "13b9aaf9",
   "metadata": {},
   "outputs": [
    {
     "data": {
      "text/plain": [
       "[40, 23, 31, 28, 20, 26]"
      ]
     },
     "execution_count": 16,
     "metadata": {},
     "output_type": "execute_result"
    }
   ],
   "source": [
    "idades_mais_um = []\n",
    "\n",
    "for idade in idades:\n",
    "    idades_mais_um.append(idade + 1)\n",
    "\n",
    "idades_mais_um"
   ]
  },
  {
   "cell_type": "code",
   "execution_count": 17,
   "id": "1e3e9226",
   "metadata": {},
   "outputs": [
    {
     "data": {
      "text/plain": [
       "[40, 23, 31, 28, 20, 26]"
      ]
     },
     "execution_count": 17,
     "metadata": {},
     "output_type": "execute_result"
    }
   ],
   "source": [
    "idades_mais_um = [(idade + 1) for idade in idades]\n",
    "idades_mais_um"
   ]
  },
  {
   "cell_type": "code",
   "execution_count": 18,
   "id": "3fc19d7c",
   "metadata": {},
   "outputs": [
    {
     "data": {
      "text/plain": [
       "[22, 27, 19, 25]"
      ]
     },
     "execution_count": 18,
     "metadata": {},
     "output_type": "execute_result"
    }
   ],
   "source": [
    "menores_de_30 = [idade for idade in idades if idade < 30]\n",
    "menores_de_30"
   ]
  },
  {
   "cell_type": "markdown",
   "id": "e3189057",
   "metadata": {},
   "source": [
    "# 2 - Tuplas"
   ]
  },
  {
   "cell_type": "markdown",
   "id": "c630eb9c",
   "metadata": {},
   "source": [
    "## 2.1 - Listas com objetos de classes nossas"
   ]
  },
  {
   "cell_type": "code",
   "execution_count": 19,
   "id": "0d8031c1",
   "metadata": {},
   "outputs": [],
   "source": [
    "class ContaCorrente:\n",
    "    def __init__(self, codigo):\n",
    "        self.codigo = codigo\n",
    "        self.saldo = 0\n",
    "    \n",
    "    def depositar(self,valor):\n",
    "        self.saldo += valor\n",
    "    \n",
    "    def __str__(self):\n",
    "        return f\">> Código: {self.codigo} Saldo: {self.saldo} <<\"\n",
    "        "
   ]
  },
  {
   "cell_type": "code",
   "execution_count": 20,
   "id": "7c51edf3",
   "metadata": {},
   "outputs": [
    {
     "name": "stdout",
     "output_type": "stream",
     "text": [
      ">> Código: 7777533 Saldo: 20 <<\n"
     ]
    }
   ],
   "source": [
    "conta_do_gabriel = ContaCorrente(7777533)\n",
    "conta_do_gabriel.depositar(20)\n",
    "print(conta_do_gabriel)"
   ]
  },
  {
   "cell_type": "code",
   "execution_count": 21,
   "id": "09344920",
   "metadata": {},
   "outputs": [
    {
     "name": "stdout",
     "output_type": "stream",
     "text": [
      ">> Código: 2222333 Saldo: 15 <<\n"
     ]
    }
   ],
   "source": [
    "conta_do_dan = ContaCorrente(2222333)\n",
    "conta_do_dan.depositar(15)\n",
    "print(conta_do_dan)"
   ]
  },
  {
   "cell_type": "code",
   "execution_count": 22,
   "id": "4ac48def",
   "metadata": {},
   "outputs": [],
   "source": [
    "lista_contas = [conta_do_gabriel, conta_do_dan, conta_do_gabriel]"
   ]
  },
  {
   "cell_type": "code",
   "execution_count": 23,
   "id": "2e8f8622",
   "metadata": {},
   "outputs": [],
   "source": [
    "lista_contas[0].depositar(150)"
   ]
  },
  {
   "cell_type": "code",
   "execution_count": 24,
   "id": "c144719c",
   "metadata": {},
   "outputs": [
    {
     "name": "stdout",
     "output_type": "stream",
     "text": [
      ">> Código: 7777533 Saldo: 170 <<\n"
     ]
    }
   ],
   "source": [
    "print(lista_contas[0])"
   ]
  },
  {
   "cell_type": "code",
   "execution_count": 25,
   "id": "396353e5",
   "metadata": {},
   "outputs": [
    {
     "name": "stdout",
     "output_type": "stream",
     "text": [
      ">> Código: 7777533 Saldo: 170 <<\n"
     ]
    }
   ],
   "source": [
    "print(conta_do_gabriel)"
   ]
  },
  {
   "cell_type": "markdown",
   "id": "ade27446",
   "metadata": {},
   "source": [
    "## 2.2 - Tuplas, objetos e anemia"
   ]
  },
  {
   "cell_type": "code",
   "execution_count": 26,
   "id": "ae88cdf9",
   "metadata": {},
   "outputs": [],
   "source": [
    "def deposita_cem(contas):\n",
    "    for conta in contas:\n",
    "        conta.depositar(100)"
   ]
  },
  {
   "cell_type": "code",
   "execution_count": 27,
   "id": "1318bc9c",
   "metadata": {},
   "outputs": [
    {
     "data": {
      "text/plain": [
       "[<__main__.ContaCorrente at 0x1973699c310>,\n",
       " <__main__.ContaCorrente at 0x1973699c7c0>]"
      ]
     },
     "execution_count": 27,
     "metadata": {},
     "output_type": "execute_result"
    }
   ],
   "source": [
    "lista_contas.remove(conta_do_gabriel)\n",
    "lista_contas"
   ]
  },
  {
   "cell_type": "code",
   "execution_count": 28,
   "id": "b3d36d13",
   "metadata": {},
   "outputs": [
    {
     "name": "stdout",
     "output_type": "stream",
     "text": [
      ">> Código: 2222333 Saldo: 15 << >> Código: 7777533 Saldo: 170 <<\n",
      ">> Código: 2222333 Saldo: 115 << >> Código: 7777533 Saldo: 270 <<\n"
     ]
    }
   ],
   "source": [
    "print(lista_contas[0], lista_contas[1])\n",
    "deposita_cem(lista_contas)\n",
    "print(lista_contas[0], lista_contas[1])"
   ]
  },
  {
   "cell_type": "code",
   "execution_count": 29,
   "id": "76bcf0cf",
   "metadata": {},
   "outputs": [],
   "source": [
    "lista_contas.insert(0, 76)"
   ]
  },
  {
   "cell_type": "code",
   "execution_count": 30,
   "id": "22ae68f4",
   "metadata": {},
   "outputs": [
    {
     "name": "stdout",
     "output_type": "stream",
     "text": [
      "76\n",
      ">> Código: 2222333 Saldo: 115 <<\n",
      ">> Código: 7777533 Saldo: 270 <<\n"
     ]
    }
   ],
   "source": [
    "for conta in lista_contas:\n",
    "    print(conta)"
   ]
  },
  {
   "cell_type": "code",
   "execution_count": 31,
   "id": "a04fcb66",
   "metadata": {},
   "outputs": [],
   "source": [
    "gabriel = (\"Gabriel\", 1998, 173)\n",
    "daniel = (\"Daniel\", 2008, 155)"
   ]
  },
  {
   "cell_type": "code",
   "execution_count": 32,
   "id": "3e8be0f6",
   "metadata": {},
   "outputs": [],
   "source": [
    "conta_do_gabriel = (2222333, 150)\n",
    "\n",
    "def deposita_cem(conta):\n",
    "    saldo = conta[1] + 100\n",
    "    codigo = conta[0]\n",
    "    return (codigo, saldo)"
   ]
  },
  {
   "cell_type": "code",
   "execution_count": 33,
   "id": "352eac6b",
   "metadata": {},
   "outputs": [
    {
     "data": {
      "text/plain": [
       "(2222333, 250)"
      ]
     },
     "execution_count": 33,
     "metadata": {},
     "output_type": "execute_result"
    }
   ],
   "source": [
    "deposita_cem(conta_do_gabriel)"
   ]
  },
  {
   "cell_type": "markdown",
   "id": "d341df59",
   "metadata": {},
   "source": [
    "## 2.3 - Tupla de objetos e lista de tuplas"
   ]
  },
  {
   "cell_type": "code",
   "execution_count": 34,
   "id": "ebd3ad9d",
   "metadata": {},
   "outputs": [],
   "source": [
    "conta_do_gabriel = ContaCorrente(7777533)\n",
    "conta_do_gabriel.depositar(20)\n",
    "\n",
    "contas = (conta_do_dan, conta_do_gabriel)"
   ]
  },
  {
   "cell_type": "code",
   "execution_count": 35,
   "id": "b53038e6",
   "metadata": {},
   "outputs": [
    {
     "name": "stdout",
     "output_type": "stream",
     "text": [
      ">> Código: 2222333 Saldo: 115 <<\n",
      ">> Código: 7777533 Saldo: 20 <<\n"
     ]
    }
   ],
   "source": [
    "for conta in contas:\n",
    "    print(conta)"
   ]
  },
  {
   "cell_type": "code",
   "execution_count": 36,
   "id": "8e45589f",
   "metadata": {},
   "outputs": [
    {
     "name": "stdout",
     "output_type": "stream",
     "text": [
      "[('Daniel', 2222333), ('Gabriel', 7777533)]\n"
     ]
    }
   ],
   "source": [
    "correntistas = [(\"Daniel\", conta_do_dan.codigo), (\"Gabriel\", conta_do_gabriel.codigo)]\n",
    "print(correntistas)"
   ]
  },
  {
   "cell_type": "code",
   "execution_count": 37,
   "id": "58cfd0bc",
   "metadata": {},
   "outputs": [],
   "source": [
    "# correntistas[0][1] = 0000000  # Não consigo alterar uma tupla dentro de uma lista"
   ]
  },
  {
   "cell_type": "code",
   "execution_count": 38,
   "id": "418dd722",
   "metadata": {},
   "outputs": [
    {
     "name": "stdout",
     "output_type": "stream",
     "text": [
      ">> Código: 7777533 Saldo: 120 <<\n"
     ]
    }
   ],
   "source": [
    "contas[1].depositar(100)\n",
    "print(contas[1])"
   ]
  },
  {
   "cell_type": "code",
   "execution_count": 39,
   "id": "7bb1eb38",
   "metadata": {},
   "outputs": [
    {
     "name": "stdout",
     "output_type": "stream",
     "text": [
      ">> Código: 7777533 Saldo: 100 <<\n"
     ]
    }
   ],
   "source": [
    "contas[1].saldo = 100  # Consigo alterar um objeto dentro uma tupla\n",
    "print(contas[1])"
   ]
  },
  {
   "cell_type": "markdown",
   "id": "26b2da3e",
   "metadata": {},
   "source": [
    "# 3 - Polimorfismo e array"
   ]
  },
  {
   "cell_type": "markdown",
   "id": "b7fae504",
   "metadata": {},
   "source": [
    "## 3.1 - Listas e polimorfiso"
   ]
  },
  {
   "cell_type": "code",
   "execution_count": 40,
   "id": "19f74986",
   "metadata": {},
   "outputs": [],
   "source": [
    "class Conta:\n",
    "    def __init__(self, codigo):\n",
    "        self.__codigo = codigo\n",
    "        self.__saldo = 0\n",
    "    \n",
    "    def depositar(self,valor):\n",
    "        self.__saldo += valor\n",
    "    \n",
    "    def debitar(self, valor):\n",
    "        self.__saldo -= valor\n",
    "    \n",
    "    @property\n",
    "    def codigo(self):\n",
    "        return self.__codigo\n",
    "    \n",
    "    @property\n",
    "    def saldo(self):\n",
    "        return self.__saldo\n",
    "    \n",
    "    def __str__(self):\n",
    "        return f\">> Código: {self.__codigo} Saldo: {self.__saldo:.2f} <<\"\n",
    "  "
   ]
  },
  {
   "cell_type": "code",
   "execution_count": 52,
   "id": "81253693",
   "metadata": {},
   "outputs": [],
   "source": [
    " class ContaCorrente(Conta):\n",
    "    def passa_o_mes(self):\n",
    "        self.debitar(2)\n",
    "        \n",
    "class ContaPoupanca(Conta):\n",
    "    def passa_o_mes(self):\n",
    "        self.depositar(self.saldo * 0.02)\n",
    "        self.debitar(3)\n",
    "        "
   ]
  },
  {
   "cell_type": "code",
   "execution_count": 42,
   "id": "2c6cf796",
   "metadata": {},
   "outputs": [
    {
     "name": "stdout",
     "output_type": "stream",
     "text": [
      ">> Código: 182 Saldo: 100.00 <<\n"
     ]
    }
   ],
   "source": [
    "conta1 = ContaCorrente(182)\n",
    "conta1.depositar(100)\n",
    "print(conta1)"
   ]
  },
  {
   "cell_type": "code",
   "execution_count": 43,
   "id": "84370822",
   "metadata": {},
   "outputs": [],
   "source": [
    "conta1.passa_o_mes()"
   ]
  },
  {
   "cell_type": "code",
   "execution_count": 44,
   "id": "66403a1b",
   "metadata": {},
   "outputs": [
    {
     "name": "stdout",
     "output_type": "stream",
     "text": [
      ">> Código: 182 Saldo: 98.00 <<\n"
     ]
    }
   ],
   "source": [
    "print(conta1)"
   ]
  },
  {
   "cell_type": "code",
   "execution_count": 45,
   "id": "6477abfe",
   "metadata": {},
   "outputs": [
    {
     "name": "stdout",
     "output_type": "stream",
     "text": [
      ">> Código: 473 Saldo: 1000.00 <<\n"
     ]
    }
   ],
   "source": [
    "conta2 = ContaPoupanca(473)\n",
    "conta2.depositar(1000)\n",
    "print(conta2)"
   ]
  },
  {
   "cell_type": "code",
   "execution_count": 46,
   "id": "6ad7b6c8",
   "metadata": {},
   "outputs": [
    {
     "name": "stdout",
     "output_type": "stream",
     "text": [
      ">> Código: 473 Saldo: 1017.00 <<\n"
     ]
    }
   ],
   "source": [
    "conta2.passa_o_mes()\n",
    "print(conta2)"
   ]
  },
  {
   "cell_type": "markdown",
   "id": "f09773c7",
   "metadata": {},
   "source": [
    "## 3.2 - Arrays e Numpy"
   ]
  },
  {
   "cell_type": "code",
   "execution_count": 48,
   "id": "357f6818",
   "metadata": {},
   "outputs": [],
   "source": [
    "import numpy as np"
   ]
  },
  {
   "cell_type": "code",
   "execution_count": 49,
   "id": "d25310ba",
   "metadata": {},
   "outputs": [
    {
     "data": {
      "text/plain": [
       "array([1, 2, 3, 4, 5, 6])"
      ]
     },
     "execution_count": 49,
     "metadata": {},
     "output_type": "execute_result"
    }
   ],
   "source": [
    "lista = [1, 2, 3, 4, 5, 6]\n",
    "\n",
    "lista = np.array(lista)\n",
    "lista"
   ]
  },
  {
   "cell_type": "code",
   "execution_count": 50,
   "id": "6868b834",
   "metadata": {},
   "outputs": [
    {
     "data": {
      "text/plain": [
       "array([ 2,  4,  6,  8, 10, 12])"
      ]
     },
     "execution_count": 50,
     "metadata": {},
     "output_type": "execute_result"
    }
   ],
   "source": [
    "lista_dobrada = lista * 2\n",
    "lista_dobrada"
   ]
  },
  {
   "cell_type": "markdown",
   "id": "4feb0859",
   "metadata": {},
   "source": [
    "## 3.3 - Método abstrato"
   ]
  },
  {
   "cell_type": "code",
   "execution_count": 53,
   "id": "129a49a2",
   "metadata": {},
   "outputs": [],
   "source": [
    "from abc import ABCMeta, abstractmethod\n",
    "\n",
    "\n",
    "class Conta(metaclass=ABCMeta):\n",
    "    def __init__(self, codigo):\n",
    "        self.__codigo = codigo\n",
    "        self.__saldo = 0\n",
    "    \n",
    "    def depositar(self,valor):\n",
    "        self.__saldo += valor\n",
    "    \n",
    "    def debitar(self, valor):\n",
    "        self.__saldo -= valor\n",
    "    \n",
    "    @abstractmethod\n",
    "    def passa_o_mes(self):\n",
    "        pass\n",
    "    \n",
    "    @property\n",
    "    def codigo(self):\n",
    "        return self.__codigo\n",
    "    \n",
    "    @property\n",
    "    def saldo(self):\n",
    "        return self.__saldo\n",
    "    \n",
    "    def __str__(self):\n",
    "        return f\">> Código: {self.__codigo} Saldo: {self.__saldo:.2f} <<\""
   ]
  },
  {
   "cell_type": "code",
   "execution_count": 54,
   "id": "b1c62371",
   "metadata": {},
   "outputs": [],
   "source": [
    "class ContaCorrente(Conta):\n",
    "    def passa_o_mes(self):\n",
    "        self.debitar(2)\n",
    "        \n",
    "class ContaPoupanca(Conta):\n",
    "    def passa_o_mes(self):\n",
    "        self.depositar(self.saldo * 0.02)\n",
    "        self.debitar(3)\n",
    "        \n",
    "class ContaInvestimento(Conta):\n",
    "    pass"
   ]
  },
  {
   "cell_type": "code",
   "execution_count": 56,
   "id": "a88e8b56",
   "metadata": {},
   "outputs": [],
   "source": [
    "# conta3 = ContaInvestimento(439)  # Uma classe com método abstrado não definido NÃO PODERÁ ser instanciada"
   ]
  },
  {
   "cell_type": "markdown",
   "id": "19a58460",
   "metadata": {},
   "source": [
    "# 4 - Igualdade"
   ]
  },
  {
   "cell_type": "markdown",
   "id": "505e4839",
   "metadata": {},
   "source": [
    "## 4.1 - Igualdade e o __eq__"
   ]
  },
  {
   "cell_type": "code",
   "execution_count": 75,
   "id": "d31cce41",
   "metadata": {},
   "outputs": [],
   "source": [
    "class ContaSalario:\n",
    "    \n",
    "    def __init__(self, codigo):\n",
    "        self.__codigo = codigo\n",
    "        self.__saldo = 0.0\n",
    "        \n",
    "    def depositar(self,valor):\n",
    "        self.__saldo += valor\n",
    "    \n",
    "    def debitar(self, valor):\n",
    "        self.__saldo -= valor\n",
    "    \n",
    "    @property\n",
    "    def codigo(self):\n",
    "        return self.__codigo\n",
    "    \n",
    "    @property\n",
    "    def saldo(self):\n",
    "        return self.__saldo\n",
    "    \n",
    "    def __str__(self):\n",
    "        return f\">> Código: {self.__codigo} Saldo: {self.__saldo:.2f} <<\"\n",
    "    \n",
    "    def __eq__(self, other):\n",
    "        if type(other) != ContaSalario:\n",
    "            return False\n",
    "        \n",
    "        else:\n",
    "            return self.codigo == other.codigo and self.saldo == other.saldo\n",
    "        "
   ]
  },
  {
   "cell_type": "code",
   "execution_count": 76,
   "id": "30f4a6af",
   "metadata": {},
   "outputs": [
    {
     "name": "stdout",
     "output_type": "stream",
     "text": [
      ">> Código: 493 Saldo: 0.00 <<\n"
     ]
    }
   ],
   "source": [
    "conta1 = ContaSalario(493)\n",
    "print(conta1)"
   ]
  },
  {
   "cell_type": "code",
   "execution_count": 77,
   "id": "ed35b07e",
   "metadata": {},
   "outputs": [
    {
     "name": "stdout",
     "output_type": "stream",
     "text": [
      ">> Código: 493 Saldo: 0.00 <<\n"
     ]
    }
   ],
   "source": [
    "conta2 = ContaSalario(493)\n",
    "print(conta2)"
   ]
  },
  {
   "cell_type": "code",
   "execution_count": 78,
   "id": "5bdfa8e9",
   "metadata": {},
   "outputs": [
    {
     "data": {
      "text/plain": [
       "True"
      ]
     },
     "execution_count": 78,
     "metadata": {},
     "output_type": "execute_result"
    }
   ],
   "source": [
    "conta1 == conta2"
   ]
  },
  {
   "cell_type": "code",
   "execution_count": 79,
   "id": "121a1796",
   "metadata": {},
   "outputs": [
    {
     "data": {
      "text/plain": [
       "True"
      ]
     },
     "execution_count": 79,
     "metadata": {},
     "output_type": "execute_result"
    }
   ],
   "source": [
    "conta1 in [conta2]"
   ]
  },
  {
   "cell_type": "code",
   "execution_count": 80,
   "id": "0a31fb9a",
   "metadata": {},
   "outputs": [
    {
     "name": "stdout",
     "output_type": "stream",
     "text": [
      ">> Código: 493 Saldo: 15.00 <<\n"
     ]
    }
   ],
   "source": [
    "conta1.depositar(15)\n",
    "print(conta1)"
   ]
  },
  {
   "cell_type": "code",
   "execution_count": 81,
   "id": "f3002dd4",
   "metadata": {},
   "outputs": [
    {
     "data": {
      "text/plain": [
       "False"
      ]
     },
     "execution_count": 81,
     "metadata": {},
     "output_type": "execute_result"
    }
   ],
   "source": [
    "conta1 == conta2"
   ]
  },
  {
   "cell_type": "code",
   "execution_count": 82,
   "id": "6f7ff9e0",
   "metadata": {},
   "outputs": [
    {
     "name": "stdout",
     "output_type": "stream",
     "text": [
      ">> Código: 493 Saldo: 15.00 <<\n"
     ]
    }
   ],
   "source": [
    "conta3 = ContaCorrente(493)\n",
    "conta3.depositar(15)\n",
    "print(conta3)"
   ]
  },
  {
   "cell_type": "code",
   "execution_count": 83,
   "id": "5367bc12",
   "metadata": {},
   "outputs": [
    {
     "data": {
      "text/plain": [
       "False"
      ]
     },
     "execution_count": 83,
     "metadata": {},
     "output_type": "execute_result"
    }
   ],
   "source": [
    "conta1 == conta3"
   ]
  },
  {
   "cell_type": "code",
   "execution_count": 84,
   "id": "0d08464c",
   "metadata": {},
   "outputs": [
    {
     "data": {
      "text/plain": [
       "True"
      ]
     },
     "execution_count": 84,
     "metadata": {},
     "output_type": "execute_result"
    }
   ],
   "source": [
    "isinstance(conta1, ContaSalario)"
   ]
  },
  {
   "cell_type": "code",
   "execution_count": 86,
   "id": "73550b47",
   "metadata": {},
   "outputs": [
    {
     "data": {
      "text/plain": [
       "False"
      ]
     },
     "execution_count": 86,
     "metadata": {},
     "output_type": "execute_result"
    }
   ],
   "source": [
    "isinstance(conta3, ContaSalario)"
   ]
  },
  {
   "cell_type": "markdown",
   "id": "0dfc0f2c",
   "metadata": {},
   "source": [
    "# 5 - Outros builtins"
   ]
  },
  {
   "cell_type": "markdown",
   "id": "02505391",
   "metadata": {},
   "source": [
    "## 5.1 - Builtins como enumerated, range e desempacotamento automático de tuplas"
   ]
  },
  {
   "cell_type": "code",
   "execution_count": 1,
   "id": "3a240e47",
   "metadata": {},
   "outputs": [],
   "source": [
    "import random"
   ]
  },
  {
   "cell_type": "code",
   "execution_count": 10,
   "id": "34ad9ce7",
   "metadata": {},
   "outputs": [
    {
     "data": {
      "text/plain": [
       "[25, 22, 19, 18, 17, 30, 23, 21, 26, 30]"
      ]
     },
     "execution_count": 10,
     "metadata": {},
     "output_type": "execute_result"
    }
   ],
   "source": [
    "idades = [random.randint(17, 30) for numero in range(10)]\n",
    "idades"
   ]
  },
  {
   "cell_type": "code",
   "execution_count": 11,
   "id": "d3a9a511",
   "metadata": {},
   "outputs": [
    {
     "data": {
      "text/plain": [
       "[(0, 25),\n",
       " (1, 22),\n",
       " (2, 19),\n",
       " (3, 18),\n",
       " (4, 17),\n",
       " (5, 30),\n",
       " (6, 23),\n",
       " (7, 21),\n",
       " (8, 26),\n",
       " (9, 30)]"
      ]
     },
     "execution_count": 11,
     "metadata": {},
     "output_type": "execute_result"
    }
   ],
   "source": [
    "list(enumerate(idades))"
   ]
  },
  {
   "cell_type": "code",
   "execution_count": 12,
   "id": "2b2b386b",
   "metadata": {},
   "outputs": [
    {
     "name": "stdout",
     "output_type": "stream",
     "text": [
      "(0, 25)\n",
      "(1, 22)\n",
      "(2, 19)\n",
      "(3, 18)\n",
      "(4, 17)\n",
      "(5, 30)\n",
      "(6, 23)\n",
      "(7, 21)\n",
      "(8, 26)\n",
      "(9, 30)\n"
     ]
    }
   ],
   "source": [
    "for valor in enumerate(idades):\n",
    "    print(valor)"
   ]
  },
  {
   "cell_type": "code",
   "execution_count": 15,
   "id": "c1946a09",
   "metadata": {},
   "outputs": [
    {
     "name": "stdout",
     "output_type": "stream",
     "text": [
      "0 - 25\n",
      "1 - 22\n",
      "2 - 19\n",
      "3 - 18\n",
      "4 - 17\n",
      "5 - 30\n",
      "6 - 23\n",
      "7 - 21\n",
      "8 - 26\n",
      "9 - 30\n"
     ]
    }
   ],
   "source": [
    "for indice, idade in enumerate(idades):\n",
    "    print(indice, \"-\", idade)\n",
    "    "
   ]
  },
  {
   "cell_type": "code",
   "execution_count": 16,
   "id": "2b9a7024",
   "metadata": {},
   "outputs": [],
   "source": [
    "pessoas = [(\"Gabriel\", 22, 1998), (\"Beatriz\", 18, 2002), (\"Daniel\", 12, 2008)]"
   ]
  },
  {
   "cell_type": "code",
   "execution_count": 17,
   "id": "aaa9e029",
   "metadata": {},
   "outputs": [
    {
     "name": "stdout",
     "output_type": "stream",
     "text": [
      "('Gabriel', 22, 1998)\n",
      "('Beatriz', 18, 2002)\n",
      "('Daniel', 12, 2008)\n"
     ]
    }
   ],
   "source": [
    "for pessoa in pessoas:\n",
    "    print(pessoa)"
   ]
  },
  {
   "cell_type": "code",
   "execution_count": 18,
   "id": "179e49b2",
   "metadata": {},
   "outputs": [
    {
     "name": "stdout",
     "output_type": "stream",
     "text": [
      "Nome: Gabriel - Idade: 22 - Ano de Nascimento: 1998\n",
      "Nome: Beatriz - Idade: 18 - Ano de Nascimento: 2002\n",
      "Nome: Daniel - Idade: 12 - Ano de Nascimento: 2008\n"
     ]
    }
   ],
   "source": [
    "for nome, idade, ano_nasc in pessoas:\n",
    "    print(f\"Nome: {nome} - Idade: {idade} - Ano de Nascimento: {ano_nasc}\")"
   ]
  },
  {
   "cell_type": "code",
   "execution_count": 19,
   "id": "6fdd5f52",
   "metadata": {},
   "outputs": [
    {
     "name": "stdout",
     "output_type": "stream",
     "text": [
      "Nome: Gabriel - Idade: 22\n",
      "Nome: Beatriz - Idade: 18\n",
      "Nome: Daniel - Idade: 12\n"
     ]
    }
   ],
   "source": [
    "for nome, idade, _ in pessoas:\n",
    "    print(f\"Nome: {nome} - Idade: {idade}\")"
   ]
  },
  {
   "cell_type": "markdown",
   "id": "a7767ea9",
   "metadata": {},
   "source": [
    "# 6 - Ordem natural"
   ]
  },
  {
   "cell_type": "markdown",
   "id": "366149c9",
   "metadata": {},
   "source": [
    "# 6.1 - Ordenação básica"
   ]
  },
  {
   "cell_type": "code",
   "execution_count": 20,
   "id": "8914aaec",
   "metadata": {},
   "outputs": [
    {
     "data": {
      "text/plain": [
       "[17, 18, 19, 21, 22, 23, 25, 26, 30, 30]"
      ]
     },
     "execution_count": 20,
     "metadata": {},
     "output_type": "execute_result"
    }
   ],
   "source": [
    "sorted(idades)"
   ]
  },
  {
   "cell_type": "code",
   "execution_count": 21,
   "id": "3594e02c",
   "metadata": {},
   "outputs": [
    {
     "data": {
      "text/plain": [
       "[30, 26, 21, 23, 30, 17, 18, 19, 22, 25]"
      ]
     },
     "execution_count": 21,
     "metadata": {},
     "output_type": "execute_result"
    }
   ],
   "source": [
    "list(reversed(idades))"
   ]
  },
  {
   "cell_type": "code",
   "execution_count": 22,
   "id": "8649fa63",
   "metadata": {},
   "outputs": [
    {
     "data": {
      "text/plain": [
       "[30, 30, 26, 25, 23, 22, 21, 19, 18, 17]"
      ]
     },
     "execution_count": 22,
     "metadata": {},
     "output_type": "execute_result"
    }
   ],
   "source": [
    "sorted(idades, reverse=True)"
   ]
  },
  {
   "cell_type": "markdown",
   "id": "abd45a24",
   "metadata": {},
   "source": [
    "# 7 - Ordenação customizada"
   ]
  },
  {
   "cell_type": "markdown",
   "id": "b59bfeec",
   "metadata": {},
   "source": [
    "## 7.1 - Ordenação de objetos sem ordem natural"
   ]
  },
  {
   "cell_type": "code",
   "execution_count": 25,
   "id": "fab94efb",
   "metadata": {},
   "outputs": [],
   "source": [
    "class ContaSalario:\n",
    "    \n",
    "    def __init__(self, codigo):\n",
    "        self.__codigo = codigo\n",
    "        self.__saldo = 0.0\n",
    "        \n",
    "    def depositar(self,valor):\n",
    "        self.__saldo += valor\n",
    "    \n",
    "    def debitar(self, valor):\n",
    "        self.__saldo -= valor\n",
    "    \n",
    "    @property\n",
    "    def codigo(self):\n",
    "        return self.__codigo\n",
    "    \n",
    "    @property\n",
    "    def saldo(self):\n",
    "        return self.__saldo\n",
    "    \n",
    "    def __str__(self):\n",
    "        return f\">> Código: {self.__codigo} Saldo: {self.__saldo:.2f} <<\"\n",
    "    \n",
    "    def __eq__(self, other):\n",
    "        if type(other) != ContaSalario:\n",
    "            return False\n",
    "        \n",
    "        else:\n",
    "            return self.codigo == other.codigo and self.saldo == other.saldo\n",
    "        "
   ]
  },
  {
   "cell_type": "code",
   "execution_count": 26,
   "id": "d4325b27",
   "metadata": {},
   "outputs": [],
   "source": [
    "conta_do_gabriel = ContaSalario(234)\n",
    "conta_do_gabriel.depositar(1000)\n",
    "\n",
    "conta_do_daniel = ContaSalario(525)\n",
    "conta_do_daniel.depositar(250)\n",
    "\n",
    "conta_da_beatriz = ContaSalario(394)\n",
    "conta_da_beatriz.depositar(500)"
   ]
  },
  {
   "cell_type": "code",
   "execution_count": 27,
   "id": "da5c9c1d",
   "metadata": {},
   "outputs": [],
   "source": [
    "contas = [conta_do_gabriel, conta_da_beatriz, conta_do_daniel]"
   ]
  },
  {
   "cell_type": "code",
   "execution_count": 29,
   "id": "b45cdc92",
   "metadata": {},
   "outputs": [
    {
     "name": "stdout",
     "output_type": "stream",
     "text": [
      ">> Código: 234 Saldo: 1000.00 <<\n",
      ">> Código: 394 Saldo: 500.00 <<\n",
      ">> Código: 525 Saldo: 250.00 <<\n"
     ]
    }
   ],
   "source": [
    "for conta in contas:\n",
    "    print(conta)"
   ]
  },
  {
   "cell_type": "code",
   "execution_count": 34,
   "id": "44c69c08",
   "metadata": {},
   "outputs": [
    {
     "name": "stdout",
     "output_type": "stream",
     "text": [
      ">> Código: 234 Saldo: 1000.00 <<\n",
      ">> Código: 394 Saldo: 500.00 <<\n",
      ">> Código: 525 Saldo: 250.00 <<\n"
     ]
    }
   ],
   "source": [
    "def extrai_saldo(conta):\n",
    "    return conta.saldo\n",
    "\n",
    "for conta in sorted(contas, key=extrai_saldo, reverse=True):\n",
    "    print(conta)"
   ]
  },
  {
   "cell_type": "code",
   "execution_count": 36,
   "id": "4ee192b0",
   "metadata": {},
   "outputs": [
    {
     "name": "stdout",
     "output_type": "stream",
     "text": [
      ">> Código: 234 Saldo: 1000.00 <<\n",
      ">> Código: 394 Saldo: 500.00 <<\n",
      ">> Código: 525 Saldo: 250.00 <<\n"
     ]
    }
   ],
   "source": [
    "from operator import attrgetter\n",
    "\n",
    "for conta in sorted(contas, key=attrgetter(\"saldo\"), reverse=True):\n",
    "    print(conta)"
   ]
  },
  {
   "cell_type": "markdown",
   "id": "eea62078",
   "metadata": {},
   "source": [
    "## 7.2 - Implementando o __ lt __"
   ]
  },
  {
   "cell_type": "code",
   "execution_count": 38,
   "id": "be63c3c0",
   "metadata": {},
   "outputs": [],
   "source": [
    "class ContaSalario:\n",
    "    \n",
    "    def __init__(self, codigo):\n",
    "        self.__codigo = codigo\n",
    "        self.__saldo = 0.0\n",
    "        \n",
    "    def depositar(self,valor):\n",
    "        self.__saldo += valor\n",
    "    \n",
    "    def debitar(self, valor):\n",
    "        self.__saldo -= valor\n",
    "    \n",
    "    @property\n",
    "    def codigo(self):\n",
    "        return self.__codigo\n",
    "    \n",
    "    @property\n",
    "    def saldo(self):\n",
    "        return self.__saldo\n",
    "    \n",
    "    def __lt__(self, other):\n",
    "        return self.saldo < other.saldo\n",
    "    \n",
    "    def __str__(self):\n",
    "        return f\">> Código: {self.__codigo} Saldo: {self.__saldo:.2f} <<\"\n",
    "    \n",
    "    def __eq__(self, other):\n",
    "        if type(other) != ContaSalario:\n",
    "            return False\n",
    "        \n",
    "        else:\n",
    "            return self.codigo == other.codigo and self.saldo == other.saldo"
   ]
  },
  {
   "cell_type": "code",
   "execution_count": 44,
   "id": "5b58260e",
   "metadata": {},
   "outputs": [],
   "source": [
    "conta_do_gabriel = ContaSalario(234)\n",
    "conta_do_gabriel.depositar(1000)\n",
    "\n",
    "conta_do_daniel = ContaSalario(525)\n",
    "conta_do_daniel.depositar(250)\n",
    "\n",
    "conta_da_beatriz = ContaSalario(394)\n",
    "conta_da_beatriz.depositar(500)\n",
    "\n",
    "contas = [conta_da_beatriz, conta_do_daniel, conta_do_gabriel]"
   ]
  },
  {
   "cell_type": "code",
   "execution_count": 45,
   "id": "9f753d02",
   "metadata": {},
   "outputs": [
    {
     "data": {
      "text/plain": [
       "False"
      ]
     },
     "execution_count": 45,
     "metadata": {},
     "output_type": "execute_result"
    }
   ],
   "source": [
    "conta_da_beatriz < conta_do_daniel"
   ]
  },
  {
   "cell_type": "code",
   "execution_count": 46,
   "id": "df2b44e0",
   "metadata": {},
   "outputs": [
    {
     "name": "stdout",
     "output_type": "stream",
     "text": [
      ">> Código: 525 Saldo: 250.00 <<\n",
      ">> Código: 394 Saldo: 500.00 <<\n",
      ">> Código: 234 Saldo: 1000.00 <<\n"
     ]
    }
   ],
   "source": [
    "for conta in sorted(contas):\n",
    "    print(conta)"
   ]
  },
  {
   "cell_type": "markdown",
   "id": "d0debfe5",
   "metadata": {},
   "source": [
    "# 8 - Ordenação total"
   ]
  },
  {
   "cell_type": "markdown",
   "id": "823feebc",
   "metadata": {},
   "source": [
    "## 8.1 - Ordenação completa e functools"
   ]
  },
  {
   "cell_type": "code",
   "execution_count": 47,
   "id": "126b24da",
   "metadata": {},
   "outputs": [
    {
     "name": "stdout",
     "output_type": "stream",
     "text": [
      ">> Código: 525 Saldo: 500.00 <<\n"
     ]
    }
   ],
   "source": [
    "conta_do_daniel.depositar(250)\n",
    "print(conta_do_daniel)"
   ]
  },
  {
   "cell_type": "code",
   "execution_count": 48,
   "id": "6d766947",
   "metadata": {},
   "outputs": [
    {
     "name": "stdout",
     "output_type": "stream",
     "text": [
      ">> Código: 394 Saldo: 500.00 <<\n",
      ">> Código: 525 Saldo: 500.00 <<\n",
      ">> Código: 234 Saldo: 1000.00 <<\n"
     ]
    }
   ],
   "source": [
    "for conta in sorted(contas, key=attrgetter(\"saldo\", \"codigo\")):\n",
    "    print(conta)"
   ]
  },
  {
   "cell_type": "code",
   "execution_count": 52,
   "id": "38404072",
   "metadata": {},
   "outputs": [],
   "source": [
    "from functools import total_ordering\n",
    "\n",
    "@total_ordering\n",
    "class ContaSalario:\n",
    "    \n",
    "    def __init__(self, codigo):\n",
    "        self.__codigo = codigo\n",
    "        self.__saldo = 0.0\n",
    "        \n",
    "    def depositar(self,valor):\n",
    "        self.__saldo += valor\n",
    "    \n",
    "    def debitar(self, valor):\n",
    "        self.__saldo -= valor\n",
    "    \n",
    "    @property\n",
    "    def codigo(self):\n",
    "        return self.__codigo\n",
    "    \n",
    "    @property\n",
    "    def saldo(self):\n",
    "        return self.__saldo\n",
    "    \n",
    "    def __lt__(self, other):\n",
    "        if self.saldo != other.saldo:\n",
    "            return self.saldo < other.saldo\n",
    "        \n",
    "        else:\n",
    "            return self.codigo < other.codigo\n",
    "    \n",
    "    def __str__(self):\n",
    "        return f\">> Código: {self.__codigo} Saldo: {self.__saldo:.2f} <<\"\n",
    "    \n",
    "    def __eq__(self, other):\n",
    "        if type(other) != ContaSalario:\n",
    "            return False\n",
    "        \n",
    "        else:\n",
    "            return self.codigo == other.codigo and self.saldo == other.saldo"
   ]
  },
  {
   "cell_type": "code",
   "execution_count": 53,
   "id": "cb680c40",
   "metadata": {},
   "outputs": [],
   "source": [
    "conta_do_gabriel = ContaSalario(123)\n",
    "conta_do_gabriel.depositar(1000)\n",
    "\n",
    "conta_do_daniel = ContaSalario(345)\n",
    "conta_do_daniel.depositar(1000)\n",
    "\n",
    "conta_da_beatriz = ContaSalario(234)\n",
    "conta_da_beatriz.depositar(1000)\n",
    "\n",
    "contas = [conta_da_beatriz, conta_do_daniel, conta_do_gabriel]"
   ]
  },
  {
   "cell_type": "code",
   "execution_count": 54,
   "id": "22885aac",
   "metadata": {},
   "outputs": [
    {
     "name": "stdout",
     "output_type": "stream",
     "text": [
      ">> Código: 123 Saldo: 1000.00 <<\n",
      ">> Código: 234 Saldo: 1000.00 <<\n",
      ">> Código: 345 Saldo: 1000.00 <<\n"
     ]
    }
   ],
   "source": [
    "for conta in sorted(contas):\n",
    "    print(conta)"
   ]
  },
  {
   "cell_type": "code",
   "execution_count": 56,
   "id": "39ace033",
   "metadata": {},
   "outputs": [
    {
     "data": {
      "text/plain": [
       "True"
      ]
     },
     "execution_count": 56,
     "metadata": {},
     "output_type": "execute_result"
    }
   ],
   "source": [
    "conta_do_daniel >= conta_do_gabriel"
   ]
  },
  {
   "cell_type": "code",
   "execution_count": null,
   "id": "2bf0a649",
   "metadata": {},
   "outputs": [],
   "source": []
  }
 ],
 "metadata": {
  "kernelspec": {
   "display_name": "Python 3",
   "language": "python",
   "name": "python3"
  },
  "language_info": {
   "codemirror_mode": {
    "name": "ipython",
    "version": 3
   },
   "file_extension": ".py",
   "mimetype": "text/x-python",
   "name": "python",
   "nbconvert_exporter": "python",
   "pygments_lexer": "ipython3",
   "version": "3.8.8"
  }
 },
 "nbformat": 4,
 "nbformat_minor": 5
}
